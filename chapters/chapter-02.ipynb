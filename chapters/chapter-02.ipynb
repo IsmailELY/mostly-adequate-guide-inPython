{
 "cells": [
  {
   "cell_type": "markdown",
   "metadata": {},
   "source": [
    "# Chapter 02: First Class Functions\n",
    "\n",
    "### Note:\n",
    "First class functions are like any other data type and there is nothing particularly special about them!\n",
    "they may be stored in arrays, passed around as function parameters, assigned to variables."
   ]
  },
  {
   "cell_type": "code",
   "execution_count": 6,
   "metadata": {},
   "outputs": [],
   "source": [
    "class Db:\n",
    "    def save(self, data):\n",
    "        \"\"\" methods bound to instances (like save) \n",
    "        are not first-class functions by default \n",
    "        because they have an implicit self argument.\"\"\"\n",
    "        print(f\"Saving data: {data}\")"
   ]
  },
  {
   "cell_type": "markdown",
   "metadata": {},
   "source": [
    "For a Instance method to become a first Class function, it has to become independant from its context (self). \\\n",
    "If the context is lost for any reason, random behaviours may occur. \\\n",
    "The solution is to bind the context to the function."
   ]
  },
  {
   "cell_type": "code",
   "execution_count": 29,
   "metadata": {},
   "outputs": [
    {
     "name": "stdout",
     "output_type": "stream",
     "text": [
      "Saving data: Data\n"
     ]
    }
   ],
   "source": [
    "# Init instance of Db\n",
    "db_instance = Db()\n",
    "\n",
    "# Bind the context to a new function called db_save\n",
    "db_save = db_instance.save\n",
    "db_save(\"Data\")"
   ]
  },
  {
   "cell_type": "code",
   "execution_count": 26,
   "metadata": {},
   "outputs": [
    {
     "data": {
      "text/plain": [
       "False"
      ]
     },
     "execution_count": 26,
     "metadata": {},
     "output_type": "execute_result"
    }
   ],
   "source": [
    "id(db_instance.save) == id(db_save) # Not the same"
   ]
  },
  {
   "cell_type": "markdown",
   "metadata": {},
   "source": [
    "Binding the function allowed us to create a new function that will provide us with the same result even if the context is lost"
   ]
  },
  {
   "cell_type": "code",
   "execution_count": 30,
   "metadata": {},
   "outputs": [
    {
     "name": "stdout",
     "output_type": "stream",
     "text": [
      "Saving data: Data\n"
     ]
    }
   ],
   "source": [
    "del db_instance # context is lost\n",
    "db_save(\"Data\") # output is the same"
   ]
  }
 ],
 "metadata": {
  "kernelspec": {
   "display_name": ".env",
   "language": "python",
   "name": "python3"
  },
  "language_info": {
   "codemirror_mode": {
    "name": "ipython",
    "version": 3
   },
   "file_extension": ".py",
   "mimetype": "text/x-python",
   "name": "python",
   "nbconvert_exporter": "python",
   "pygments_lexer": "ipython3",
   "version": "3.12.5"
  }
 },
 "nbformat": 4,
 "nbformat_minor": 2
}
