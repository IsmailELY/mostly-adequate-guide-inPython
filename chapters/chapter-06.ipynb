{
 "cells": [
  {
   "cell_type": "markdown",
   "metadata": {},
   "source": [
    "# Chapter 06: Example Application\n",
    "\n",
    "**Declarative coding:** Focuses on describing what you want to achieve without specifying how to do it. The system handles the implementation details (e.g., SQL). \\\n",
    "\n",
    "**Imperative coding:** Focuses on describing how to achieve a result through explicit instructions or steps, manipulating the program's state (e.g., C, Java).\n",
    "\n",
    "**Differences:**\n",
    "- _Declarative:_ Focuses on the what\n",
    "- _Imperative:_ Focuses on the how"
   ]
  },
  {
   "cell_type": "markdown",
   "metadata": {},
   "source": [
    "First Example: "
   ]
  },
  {
   "cell_type": "code",
   "execution_count": 1,
   "metadata": {},
   "outputs": [],
   "source": [
    "class Car:\n",
    "    def __init__(self, name):\n",
    "        self.make = name\n",
    "\n",
    "cars = [Car('Jaguar'), Car('Volvo')]"
   ]
  },
  {
   "cell_type": "code",
   "execution_count": 2,
   "metadata": {},
   "outputs": [
    {
     "data": {
      "text/plain": [
       "['Jaguar', 'Volvo']"
      ]
     },
     "execution_count": 2,
     "metadata": {},
     "output_type": "execute_result"
    }
   ],
   "source": [
    "# imperative\n",
    "makes = []\n",
    "for i in range(len(cars)):\n",
    "    makes.append(cars[i].make)\n",
    "makes"
   ]
  },
  {
   "cell_type": "code",
   "execution_count": 3,
   "metadata": {},
   "outputs": [
    {
     "data": {
      "text/plain": [
       "['Jaguar', 'Volvo']"
      ]
     },
     "execution_count": 3,
     "metadata": {},
     "output_type": "execute_result"
    }
   ],
   "source": [
    "# declarative\n",
    "makes = list(map(lambda car: car.make, cars))\n",
    "makes"
   ]
  },
  {
   "cell_type": "markdown",
   "metadata": {},
   "source": [
    "Second Example:"
   ]
  },
  {
   "cell_type": "code",
   "execution_count": 4,
   "metadata": {},
   "outputs": [],
   "source": [
    "users = {'test': 'pass123'}\n",
    "toUser = lambda form: form['username'] if form['username'] in users and users[form['username']]==form['password'] else None \n",
    "logIn = lambda x: print(f'User {x} has logged in!') if x in users else print('User or Password Incorrect')"
   ]
  },
  {
   "cell_type": "code",
   "execution_count": 5,
   "metadata": {},
   "outputs": [
    {
     "name": "stdout",
     "output_type": "stream",
     "text": [
      "User test has logged in!\n"
     ]
    }
   ],
   "source": [
    "# imperative\n",
    "def authenticate(form):\n",
    "  user = toUser(form)\n",
    "  return logIn(user)\n",
    "\n",
    "# because there is still an encoded step-by-step evaluation within in it\n",
    "authenticate({'username': 'test', 'password': 'pass123'})"
   ]
  },
  {
   "cell_type": "code",
   "execution_count": 6,
   "metadata": {},
   "outputs": [
    {
     "name": "stdout",
     "output_type": "stream",
     "text": [
      "User test has logged in!\n"
     ]
    }
   ],
   "source": [
    "import utils\n",
    "\n",
    "# declarative\n",
    "authenticate = utils.compose(logIn, toUser)\n",
    "\n",
    "authenticate({'username': 'test', 'password': 'pass123'})"
   ]
  },
  {
   "cell_type": "markdown",
   "metadata": {},
   "source": [
    "### Let's explore the Flickr of Functional Programming"
   ]
  },
  {
   "cell_type": "code",
   "execution_count": 7,
   "metadata": {},
   "outputs": [],
   "source": [
    "host = 'api.flickr.com'\n",
    "path = '/services/feeds/photos_public.gne'\n",
    "\n",
    "query = lambda t: f'?tags=${t}&format=json&jsoncallback=?'\n",
    "url = lambda t: f'https://${host}${path}${query(t)}'"
   ]
  },
  {
   "cell_type": "code",
   "execution_count": 8,
   "metadata": {},
   "outputs": [],
   "source": [
    "import requests\n",
    "from IPython.display import display, HTML\n",
    "\n",
    "getJSON = utils.compose(requests.models.Response.json, requests.get)\n",
    "printHTML = utils.compose(display, HTML)"
   ]
  },
  {
   "cell_type": "code",
   "execution_count": 9,
   "metadata": {},
   "outputs": [],
   "source": [
    "app = utils.compose(getJSON, utils.trace('response'), url)"
   ]
  },
  {
   "cell_type": "code",
   "execution_count": 11,
   "metadata": {},
   "outputs": [
    {
     "name": "stdout",
     "output_type": "stream",
     "text": [
      "response https://$api.flickr.com$/services/feeds/photos_public.gne$?tags=$cats&format=json&jsoncallback=?\n",
      "Error: HTTPSConnectionPool(host='$api.flickr.com$', port=443): Max retries exceeded with url: /services/feeds/photos_public.gne$?tags=$cats&format=json&jsoncallback=? (Caused by NameResolutionError(\"<urllib3.connection.HTTPSConnection object at 0x000001B23C999490>: Failed to resolve '$api.flickr.com$' ([Errno 11001] getaddrinfo failed)\"))\n"
     ]
    }
   ],
   "source": [
    "utils.errorHandle(app)('cats')"
   ]
  },
  {
   "cell_type": "code",
   "execution_count": null,
   "metadata": {},
   "outputs": [],
   "source": []
  }
 ],
 "metadata": {
  "kernelspec": {
   "display_name": ".env",
   "language": "python",
   "name": "python3"
  },
  "language_info": {
   "codemirror_mode": {
    "name": "ipython",
    "version": 3
   },
   "file_extension": ".py",
   "mimetype": "text/x-python",
   "name": "python",
   "nbconvert_exporter": "python",
   "pygments_lexer": "ipython3",
   "version": "3.12.5"
  }
 },
 "nbformat": 4,
 "nbformat_minor": 2
}
