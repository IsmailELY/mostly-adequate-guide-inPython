{
 "cells": [
  {
   "cell_type": "markdown",
   "metadata": {},
   "source": [
    "# Chapter 06: Example Application\n",
    "\n",
    "**Declarative coding:** Focuses on describing what you want to achieve without specifying how to do it. The system handles the implementation details (e.g., SQL). \\\n",
    "\n",
    "**Imperative coding:** Focuses on describing how to achieve a result through explicit instructions or steps, manipulating the program's state (e.g., C, Java).\n",
    "\n",
    "**Differences:**\n",
    "- _Declarative:_ Focuses on the what\n",
    "- _Imperative:_ Focuses on the how"
   ]
  },
  {
   "cell_type": "code",
   "execution_count": 38,
   "metadata": {},
   "outputs": [],
   "source": [
    "# Initiate dependencies :\n",
    "import requests\n",
    "from IPython.display import display, HTML\n",
    "from functools import partial, reduce\n",
    "import utils\n",
    "import json"
   ]
  },
  {
   "cell_type": "markdown",
   "metadata": {},
   "source": [
    "First Example: "
   ]
  },
  {
   "cell_type": "code",
   "execution_count": 39,
   "metadata": {},
   "outputs": [],
   "source": [
    "class Car:\n",
    "    def __init__(self, name):\n",
    "        self.make = name\n",
    "\n",
    "cars = [Car('Jaguar'), Car('Volvo')]"
   ]
  },
  {
   "cell_type": "code",
   "execution_count": 40,
   "metadata": {},
   "outputs": [
    {
     "data": {
      "text/plain": [
       "['Jaguar', 'Volvo']"
      ]
     },
     "execution_count": 40,
     "metadata": {},
     "output_type": "execute_result"
    }
   ],
   "source": [
    "# imperative\n",
    "makes = []\n",
    "for i in range(len(cars)):\n",
    "    makes.append(cars[i].make)\n",
    "makes"
   ]
  },
  {
   "cell_type": "code",
   "execution_count": 41,
   "metadata": {},
   "outputs": [
    {
     "data": {
      "text/plain": [
       "['Jaguar', 'Volvo']"
      ]
     },
     "execution_count": 41,
     "metadata": {},
     "output_type": "execute_result"
    }
   ],
   "source": [
    "# declarative\n",
    "makes = list(map(lambda car: car.make, cars))\n",
    "makes"
   ]
  },
  {
   "cell_type": "markdown",
   "metadata": {},
   "source": [
    "Second Example:"
   ]
  },
  {
   "cell_type": "code",
   "execution_count": 42,
   "metadata": {},
   "outputs": [],
   "source": [
    "users = {'test': 'pass123'}\n",
    "toUser = lambda form: form['username'] if form['username'] in users and users[form['username']]==form['password'] else None \n",
    "logIn = lambda x: print(f'User {x} has logged in!') if x in users else print('User or Password Incorrect')"
   ]
  },
  {
   "cell_type": "code",
   "execution_count": 43,
   "metadata": {},
   "outputs": [
    {
     "name": "stdout",
     "output_type": "stream",
     "text": [
      "User test has logged in!\n"
     ]
    }
   ],
   "source": [
    "# imperative\n",
    "def authenticate(form):\n",
    "  user = toUser(form)\n",
    "  return logIn(user)\n",
    "\n",
    "# because there is still an encoded step-by-step evaluation within in it\n",
    "authenticate({'username': 'test', 'password': 'pass123'})"
   ]
  },
  {
   "cell_type": "code",
   "execution_count": 44,
   "metadata": {},
   "outputs": [
    {
     "name": "stdout",
     "output_type": "stream",
     "text": [
      "User test has logged in!\n"
     ]
    }
   ],
   "source": [
    "# declarative\n",
    "authenticate = utils.compose(logIn, toUser)\n",
    "\n",
    "authenticate({'username': 'test', 'password': 'pass123'})"
   ]
  },
  {
   "cell_type": "markdown",
   "metadata": {},
   "source": [
    "### Let's explore Flickr API using Functional Programming"
   ]
  },
  {
   "cell_type": "code",
   "execution_count": 45,
   "metadata": {},
   "outputs": [],
   "source": [
    "host = 'api.flickr.com'\n",
    "path = '/services/feeds/photos_public.gne'\n",
    "\n",
    "query = lambda t: f'?tags={t}&format=json&jsoncallback=?'\n",
    "url = lambda t: f'https://{host}{path}{query(t)}'"
   ]
  },
  {
   "cell_type": "markdown",
   "metadata": {},
   "source": [
    "Let’s define our own versions of getJSON and printHTML. \\\n",
    "Unlike the impure functions provided in the guide (written in JavaScript), \\\n",
    "the functions below are pure, but we’ll keep them wrapped inside Impure for reference."
   ]
  },
  {
   "cell_type": "code",
   "execution_count": 46,
   "metadata": {},
   "outputs": [],
   "source": [
    "class Impure:\n",
    "    setHtml = utils.compose(display, HTML, lambda tags: f\"<div>{reduce(lambda acc, x: f'{acc}{x}', tags, '')}</div>\")\n",
    "    getJSON = utils.compose(json.loads, lambda res: res.text[1:-1], requests.get)\n",
    "    trace = utils.trace"
   ]
  },
  {
   "cell_type": "code",
   "execution_count": 47,
   "metadata": {},
   "outputs": [],
   "source": [
    "app = utils.compose(Impure.getJSON, Impure.trace('response'), url)"
   ]
  },
  {
   "cell_type": "markdown",
   "metadata": {},
   "source": [
    "For a better error readability, we’ll wrap our function with errorHandle."
   ]
  },
  {
   "cell_type": "code",
   "execution_count": 48,
   "metadata": {},
   "outputs": [
    {
     "name": "stdout",
     "output_type": "stream",
     "text": [
      "response https://api.flickr.com/services/feeds/photos_public.gne?tags=cats&format=json&jsoncallback=?\n"
     ]
    },
    {
     "data": {
      "text/plain": [
       "{'title': 'Recent Uploads tagged cats',\n",
       " 'link': 'https://www.flickr.com/photos/tags/cats/',\n",
       " 'description': '',\n",
       " 'modified': '2025-01-24T02:30:29Z',\n",
       " 'generator': 'https://www.flickr.com',\n",
       " 'items': [{'title': '250123_MG_9202',\n",
       "   'link': 'https://www.flickr.com/photos/abigailmcnattphotography/54283973416/',\n",
       "   'media': {'m': 'https://live.staticflickr.com/65535/54283973416_dd5f2bc07c_m.jpg'},\n",
       "   'date_taken': '2025-01-23T18:30:04-08:00',\n",
       "   'description': ' <p><a href=\"https://www.flickr.com/people/abigailmcnattphotography/\">Abigail McNatt Photography</a> posted a photo:</p> <p><a href=\"https://www.flickr.com/photos/abigailmcnattphotography/54283973416/\" title=\"250123_MG_9202\"><img src=\"https://live.staticflickr.com/65535/54283973416_dd5f2bc07c_m.jpg\" width=\"240\" height=\"160\" alt=\"250123_MG_9202\" /></a></p> ',\n",
       "   'published': '2025-01-24T02:30:29Z',\n",
       "   'author': 'nobody@flickr.com (\"Abigail McNatt Photography\")',\n",
       "   'author_id': '132720350@N06',\n",
       "   'tags': 'whisker wonderland cat lounge bellevue pittsburgh animal photography cats kittens'},\n",
       "  {'title': '250123_MG_9174',\n",
       "   'link': 'https://www.flickr.com/photos/abigailmcnattphotography/54283085712/',\n",
       "   'media': {'m': 'https://live.staticflickr.com/65535/54283085712_3305179b63_m.jpg'},\n",
       "   'date_taken': '2025-01-23T18:00:01-08:00',\n",
       "   'description': ' <p><a href=\"https://www.flickr.com/people/abigailmcnattphotography/\">Abigail McNatt Photography</a> posted a photo:</p> <p><a href=\"https://www.flickr.com/photos/abigailmcnattphotography/54283085712/\" title=\"250123_MG_9174\"><img src=\"https://live.staticflickr.com/65535/54283085712_3305179b63_m.jpg\" width=\"240\" height=\"160\" alt=\"250123_MG_9174\" /></a></p> ',\n",
       "   'published': '2025-01-24T02:30:41Z',\n",
       "   'author': 'nobody@flickr.com (\"Abigail McNatt Photography\")',\n",
       "   'author_id': '132720350@N06',\n",
       "   'tags': 'whisker wonderland cat lounge bellevue pittsburgh animal photography cats kittens'},\n",
       "  {'title': '250123PXL_20250123_232424479.MP',\n",
       "   'link': 'https://www.flickr.com/photos/abigailmcnattphotography/54284212839/',\n",
       "   'media': {'m': 'https://live.staticflickr.com/65535/54284212839_296de79345_m.jpg'},\n",
       "   'date_taken': '2025-01-23T18:24:24-08:00',\n",
       "   'description': ' <p><a href=\"https://www.flickr.com/people/abigailmcnattphotography/\">Abigail McNatt Photography</a> posted a photo:</p> <p><a href=\"https://www.flickr.com/photos/abigailmcnattphotography/54284212839/\" title=\"250123PXL_20250123_232424479.MP\"><img src=\"https://live.staticflickr.com/65535/54284212839_296de79345_m.jpg\" width=\"135\" height=\"240\" alt=\"250123PXL_20250123_232424479.MP\" /></a></p> ',\n",
       "   'published': '2025-01-24T02:30:34Z',\n",
       "   'author': 'nobody@flickr.com (\"Abigail McNatt Photography\")',\n",
       "   'author_id': '132720350@N06',\n",
       "   'tags': 'whisker wonderland cat lounge bellevue pittsburgh animal photography cats kittens'},\n",
       "  {'title': '250123_MG_9216',\n",
       "   'link': 'https://www.flickr.com/photos/abigailmcnattphotography/54283973401/',\n",
       "   'media': {'m': 'https://live.staticflickr.com/65535/54283973401_3cbcf792d9_m.jpg'},\n",
       "   'date_taken': '2025-01-23T18:34:20-08:00',\n",
       "   'description': ' <p><a href=\"https://www.flickr.com/people/abigailmcnattphotography/\">Abigail McNatt Photography</a> posted a photo:</p> <p><a href=\"https://www.flickr.com/photos/abigailmcnattphotography/54283973401/\" title=\"250123_MG_9216\"><img src=\"https://live.staticflickr.com/65535/54283973401_3cbcf792d9_m.jpg\" width=\"240\" height=\"160\" alt=\"250123_MG_9216\" /></a></p> ',\n",
       "   'published': '2025-01-24T02:30:22Z',\n",
       "   'author': 'nobody@flickr.com (\"Abigail McNatt Photography\")',\n",
       "   'author_id': '132720350@N06',\n",
       "   'tags': 'whisker wonderland cat lounge bellevue pittsburgh animal photography cats kittens'},\n",
       "  {'title': '250123_MG_9208',\n",
       "   'link': 'https://www.flickr.com/photos/abigailmcnattphotography/54284222403/',\n",
       "   'media': {'m': 'https://live.staticflickr.com/65535/54284222403_bb589c3f4b_m.jpg'},\n",
       "   'date_taken': '2025-01-23T18:31:07-08:00',\n",
       "   'description': ' <p><a href=\"https://www.flickr.com/people/abigailmcnattphotography/\">Abigail McNatt Photography</a> posted a photo:</p> <p><a href=\"https://www.flickr.com/photos/abigailmcnattphotography/54284222403/\" title=\"250123_MG_9208\"><img src=\"https://live.staticflickr.com/65535/54284222403_bb589c3f4b_m.jpg\" width=\"240\" height=\"160\" alt=\"250123_MG_9208\" /></a></p> ',\n",
       "   'published': '2025-01-24T02:30:26Z',\n",
       "   'author': 'nobody@flickr.com (\"Abigail McNatt Photography\")',\n",
       "   'author_id': '132720350@N06',\n",
       "   'tags': 'whisker wonderland cat lounge bellevue pittsburgh animal photography cats kittens'},\n",
       "  {'title': '250123_MG_9190',\n",
       "   'link': 'https://www.flickr.com/photos/abigailmcnattphotography/54283085967/',\n",
       "   'media': {'m': 'https://live.staticflickr.com/65535/54283085967_cd8969df6b_m.jpg'},\n",
       "   'date_taken': '2025-01-23T18:25:03-08:00',\n",
       "   'description': ' <p><a href=\"https://www.flickr.com/people/abigailmcnattphotography/\">Abigail McNatt Photography</a> posted a photo:</p> <p><a href=\"https://www.flickr.com/photos/abigailmcnattphotography/54283085967/\" title=\"250123_MG_9190\"><img src=\"https://live.staticflickr.com/65535/54283085967_cd8969df6b_m.jpg\" width=\"240\" height=\"160\" alt=\"250123_MG_9190\" /></a></p> ',\n",
       "   'published': '2025-01-24T02:30:34Z',\n",
       "   'author': 'nobody@flickr.com (\"Abigail McNatt Photography\")',\n",
       "   'author_id': '132720350@N06',\n",
       "   'tags': 'whisker wonderland cat lounge bellevue pittsburgh animal photography cats kittens'},\n",
       "  {'title': '250123_MG_9119',\n",
       "   'link': 'https://www.flickr.com/photos/abigailmcnattphotography/54283973646/',\n",
       "   'media': {'m': 'https://live.staticflickr.com/65535/54283973646_576e1f23af_m.jpg'},\n",
       "   'date_taken': '2025-01-23T17:52:24-08:00',\n",
       "   'description': ' <p><a href=\"https://www.flickr.com/people/abigailmcnattphotography/\">Abigail McNatt Photography</a> posted a photo:</p> <p><a href=\"https://www.flickr.com/photos/abigailmcnattphotography/54283973646/\" title=\"250123_MG_9119\"><img src=\"https://live.staticflickr.com/65535/54283973646_576e1f23af_m.jpg\" width=\"240\" height=\"160\" alt=\"250123_MG_9119\" /></a></p> ',\n",
       "   'published': '2025-01-24T02:30:55Z',\n",
       "   'author': 'nobody@flickr.com (\"Abigail McNatt Photography\")',\n",
       "   'author_id': '132720350@N06',\n",
       "   'tags': 'whisker wonderland cat lounge bellevue pittsburgh animal photography cats kittens'},\n",
       "  {'title': '250123_MG_9199',\n",
       "   'link': 'https://www.flickr.com/photos/abigailmcnattphotography/54284213034/',\n",
       "   'media': {'m': 'https://live.staticflickr.com/65535/54284213034_b91476bf62_m.jpg'},\n",
       "   'date_taken': '2025-01-23T18:29:51-08:00',\n",
       "   'description': ' <p><a href=\"https://www.flickr.com/people/abigailmcnattphotography/\">Abigail McNatt Photography</a> posted a photo:</p> <p><a href=\"https://www.flickr.com/photos/abigailmcnattphotography/54284213034/\" title=\"250123_MG_9199\"><img src=\"https://live.staticflickr.com/65535/54284213034_b91476bf62_m.jpg\" width=\"240\" height=\"160\" alt=\"250123_MG_9199\" /></a></p> ',\n",
       "   'published': '2025-01-24T02:30:30Z',\n",
       "   'author': 'nobody@flickr.com (\"Abigail McNatt Photography\")',\n",
       "   'author_id': '132720350@N06',\n",
       "   'tags': 'whisker wonderland cat lounge bellevue pittsburgh animal photography cats kittens'},\n",
       "  {'title': '250123PXL_20250123_233226472.MP',\n",
       "   'link': 'https://www.flickr.com/photos/abigailmcnattphotography/54284212829/',\n",
       "   'media': {'m': 'https://live.staticflickr.com/65535/54284212829_b37067d01c_m.jpg'},\n",
       "   'date_taken': '2025-01-23T18:32:26-08:00',\n",
       "   'description': ' <p><a href=\"https://www.flickr.com/people/abigailmcnattphotography/\">Abigail McNatt Photography</a> posted a photo:</p> <p><a href=\"https://www.flickr.com/photos/abigailmcnattphotography/54284212829/\" title=\"250123PXL_20250123_233226472.MP\"><img src=\"https://live.staticflickr.com/65535/54284212829_b37067d01c_m.jpg\" width=\"171\" height=\"240\" alt=\"250123PXL_20250123_233226472.MP\" /></a></p> ',\n",
       "   'published': '2025-01-24T02:30:25Z',\n",
       "   'author': 'nobody@flickr.com (\"Abigail McNatt Photography\")',\n",
       "   'author_id': '132720350@N06',\n",
       "   'tags': 'whisker wonderland cat lounge bellevue pittsburgh animal photography cats kittens'},\n",
       "  {'title': '250123_MG_9201',\n",
       "   'link': 'https://www.flickr.com/photos/abigailmcnattphotography/54283085902/',\n",
       "   'media': {'m': 'https://live.staticflickr.com/65535/54283085902_cb42151781_m.jpg'},\n",
       "   'date_taken': '2025-01-23T18:30:02-08:00',\n",
       "   'description': ' <p><a href=\"https://www.flickr.com/people/abigailmcnattphotography/\">Abigail McNatt Photography</a> posted a photo:</p> <p><a href=\"https://www.flickr.com/photos/abigailmcnattphotography/54283085902/\" title=\"250123_MG_9201\"><img src=\"https://live.staticflickr.com/65535/54283085902_cb42151781_m.jpg\" width=\"240\" height=\"160\" alt=\"250123_MG_9201\" /></a></p> ',\n",
       "   'published': '2025-01-24T02:30:30Z',\n",
       "   'author': 'nobody@flickr.com (\"Abigail McNatt Photography\")',\n",
       "   'author_id': '132720350@N06',\n",
       "   'tags': 'whisker wonderland cat lounge bellevue pittsburgh animal photography cats kittens'},\n",
       "  {'title': '250123_MG_9130',\n",
       "   'link': 'https://www.flickr.com/photos/abigailmcnattphotography/54284213204/',\n",
       "   'media': {'m': 'https://live.staticflickr.com/65535/54284213204_df14cf001a_m.jpg'},\n",
       "   'date_taken': '2025-01-23T17:52:57-08:00',\n",
       "   'description': ' <p><a href=\"https://www.flickr.com/people/abigailmcnattphotography/\">Abigail McNatt Photography</a> posted a photo:</p> <p><a href=\"https://www.flickr.com/photos/abigailmcnattphotography/54284213204/\" title=\"250123_MG_9130\"><img src=\"https://live.staticflickr.com/65535/54284213204_df14cf001a_m.jpg\" width=\"160\" height=\"240\" alt=\"250123_MG_9130\" /></a></p> ',\n",
       "   'published': '2025-01-24T02:30:51Z',\n",
       "   'author': 'nobody@flickr.com (\"Abigail McNatt Photography\")',\n",
       "   'author_id': '132720350@N06',\n",
       "   'tags': 'whisker wonderland cat lounge bellevue pittsburgh animal photography cats kittens'},\n",
       "  {'title': '250123_MG_9160',\n",
       "   'link': 'https://www.flickr.com/photos/abigailmcnattphotography/54284222553/',\n",
       "   'media': {'m': 'https://live.staticflickr.com/65535/54284222553_326377e789_m.jpg'},\n",
       "   'date_taken': '2025-01-23T17:57:54-08:00',\n",
       "   'description': ' <p><a href=\"https://www.flickr.com/people/abigailmcnattphotography/\">Abigail McNatt Photography</a> posted a photo:</p> <p><a href=\"https://www.flickr.com/photos/abigailmcnattphotography/54284222553/\" title=\"250123_MG_9160\"><img src=\"https://live.staticflickr.com/65535/54284222553_326377e789_m.jpg\" width=\"240\" height=\"160\" alt=\"250123_MG_9160\" /></a></p> ',\n",
       "   'published': '2025-01-24T02:30:43Z',\n",
       "   'author': 'nobody@flickr.com (\"Abigail McNatt Photography\")',\n",
       "   'author_id': '132720350@N06',\n",
       "   'tags': 'whisker wonderland cat lounge bellevue pittsburgh animal photography cats kittens'},\n",
       "  {'title': '250123_MG_9182',\n",
       "   'link': 'https://www.flickr.com/photos/abigailmcnattphotography/54284213119/',\n",
       "   'media': {'m': 'https://live.staticflickr.com/65535/54284213119_5276f2f9ba_m.jpg'},\n",
       "   'date_taken': '2025-01-23T18:00:39-08:00',\n",
       "   'description': ' <p><a href=\"https://www.flickr.com/people/abigailmcnattphotography/\">Abigail McNatt Photography</a> posted a photo:</p> <p><a href=\"https://www.flickr.com/photos/abigailmcnattphotography/54284213119/\" title=\"250123_MG_9182\"><img src=\"https://live.staticflickr.com/65535/54284213119_5276f2f9ba_m.jpg\" width=\"240\" height=\"160\" alt=\"250123_MG_9182\" /></a></p> ',\n",
       "   'published': '2025-01-24T02:30:38Z',\n",
       "   'author': 'nobody@flickr.com (\"Abigail McNatt Photography\")',\n",
       "   'author_id': '132720350@N06',\n",
       "   'tags': 'whisker wonderland cat lounge bellevue pittsburgh animal photography cats kittens'},\n",
       "  {'title': '250123_MG_9192-2',\n",
       "   'link': 'https://www.flickr.com/photos/abigailmcnattphotography/54283973446/',\n",
       "   'media': {'m': 'https://live.staticflickr.com/65535/54283973446_7110bf9957_m.jpg'},\n",
       "   'date_taken': '2025-01-23T18:25:59-08:00',\n",
       "   'description': ' <p><a href=\"https://www.flickr.com/people/abigailmcnattphotography/\">Abigail McNatt Photography</a> posted a photo:</p> <p><a href=\"https://www.flickr.com/photos/abigailmcnattphotography/54283973446/\" title=\"250123_MG_9192-2\"><img src=\"https://live.staticflickr.com/65535/54283973446_7110bf9957_m.jpg\" width=\"240\" height=\"160\" alt=\"250123_MG_9192-2\" /></a></p> ',\n",
       "   'published': '2025-01-24T02:30:32Z',\n",
       "   'author': 'nobody@flickr.com (\"Abigail McNatt Photography\")',\n",
       "   'author_id': '132720350@N06',\n",
       "   'tags': 'whisker wonderland cat lounge bellevue pittsburgh animal photography cats kittens'},\n",
       "  {'title': '250123_MG_9189',\n",
       "   'link': 'https://www.flickr.com/photos/abigailmcnattphotography/54283085987/',\n",
       "   'media': {'m': 'https://live.staticflickr.com/65535/54283085987_1de718e4ff_m.jpg'},\n",
       "   'date_taken': '2025-01-23T18:24:59-08:00',\n",
       "   'description': ' <p><a href=\"https://www.flickr.com/people/abigailmcnattphotography/\">Abigail McNatt Photography</a> posted a photo:</p> <p><a href=\"https://www.flickr.com/photos/abigailmcnattphotography/54283085987/\" title=\"250123_MG_9189\"><img src=\"https://live.staticflickr.com/65535/54283085987_1de718e4ff_m.jpg\" width=\"240\" height=\"160\" alt=\"250123_MG_9189\" /></a></p> ',\n",
       "   'published': '2025-01-24T02:30:34Z',\n",
       "   'author': 'nobody@flickr.com (\"Abigail McNatt Photography\")',\n",
       "   'author_id': '132720350@N06',\n",
       "   'tags': 'whisker wonderland cat lounge bellevue pittsburgh animal photography cats kittens'},\n",
       "  {'title': '250123_MG_9148',\n",
       "   'link': 'https://www.flickr.com/photos/abigailmcnattphotography/54284222358/',\n",
       "   'media': {'m': 'https://live.staticflickr.com/65535/54284222358_967733a6dc_m.jpg'},\n",
       "   'date_taken': '2025-01-23T17:54:39-08:00',\n",
       "   'description': ' <p><a href=\"https://www.flickr.com/people/abigailmcnattphotography/\">Abigail McNatt Photography</a> posted a photo:</p> <p><a href=\"https://www.flickr.com/photos/abigailmcnattphotography/54284222358/\" title=\"250123_MG_9148\"><img src=\"https://live.staticflickr.com/65535/54284222358_967733a6dc_m.jpg\" width=\"240\" height=\"160\" alt=\"250123_MG_9148\" /></a></p> ',\n",
       "   'published': '2025-01-24T02:30:47Z',\n",
       "   'author': 'nobody@flickr.com (\"Abigail McNatt Photography\")',\n",
       "   'author_id': '132720350@N06',\n",
       "   'tags': 'whisker wonderland cat lounge bellevue pittsburgh animal photography cats kittens'},\n",
       "  {'title': '250123_MG_9191',\n",
       "   'link': 'https://www.flickr.com/photos/abigailmcnattphotography/54284213059/',\n",
       "   'media': {'m': 'https://live.staticflickr.com/65535/54284213059_698f57096c_m.jpg'},\n",
       "   'date_taken': '2025-01-23T18:25:54-08:00',\n",
       "   'description': ' <p><a href=\"https://www.flickr.com/people/abigailmcnattphotography/\">Abigail McNatt Photography</a> posted a photo:</p> <p><a href=\"https://www.flickr.com/photos/abigailmcnattphotography/54284213059/\" title=\"250123_MG_9191\"><img src=\"https://live.staticflickr.com/65535/54284213059_698f57096c_m.jpg\" width=\"240\" height=\"160\" alt=\"250123_MG_9191\" /></a></p> ',\n",
       "   'published': '2025-01-24T02:30:33Z',\n",
       "   'author': 'nobody@flickr.com (\"Abigail McNatt Photography\")',\n",
       "   'author_id': '132720350@N06',\n",
       "   'tags': 'whisker wonderland cat lounge bellevue pittsburgh animal photography cats kittens'},\n",
       "  {'title': '250123_MG_9101',\n",
       "   'link': 'https://www.flickr.com/photos/abigailmcnattphotography/54283085812/',\n",
       "   'media': {'m': 'https://live.staticflickr.com/65535/54283085812_7f265d353d_m.jpg'},\n",
       "   'date_taken': '2025-01-23T17:36:59-08:00',\n",
       "   'description': ' <p><a href=\"https://www.flickr.com/people/abigailmcnattphotography/\">Abigail McNatt Photography</a> posted a photo:</p> <p><a href=\"https://www.flickr.com/photos/abigailmcnattphotography/54283085812/\" title=\"250123_MG_9101\"><img src=\"https://live.staticflickr.com/65535/54283085812_7f265d353d_m.jpg\" width=\"240\" height=\"160\" alt=\"250123_MG_9101\" /></a></p> ',\n",
       "   'published': '2025-01-24T02:31:03Z',\n",
       "   'author': 'nobody@flickr.com (\"Abigail McNatt Photography\")',\n",
       "   'author_id': '132720350@N06',\n",
       "   'tags': 'whisker wonderland cat lounge bellevue pittsburgh animal photography cats kittens'},\n",
       "  {'title': '250123_MG_9128',\n",
       "   'link': 'https://www.flickr.com/photos/abigailmcnattphotography/54284213209/',\n",
       "   'media': {'m': 'https://live.staticflickr.com/65535/54284213209_6da9800ef8_m.jpg'},\n",
       "   'date_taken': '2025-01-23T17:52:53-08:00',\n",
       "   'description': ' <p><a href=\"https://www.flickr.com/people/abigailmcnattphotography/\">Abigail McNatt Photography</a> posted a photo:</p> <p><a href=\"https://www.flickr.com/photos/abigailmcnattphotography/54284213209/\" title=\"250123_MG_9128\"><img src=\"https://live.staticflickr.com/65535/54284213209_6da9800ef8_m.jpg\" width=\"160\" height=\"240\" alt=\"250123_MG_9128\" /></a></p> ',\n",
       "   'published': '2025-01-24T02:30:52Z',\n",
       "   'author': 'nobody@flickr.com (\"Abigail McNatt Photography\")',\n",
       "   'author_id': '132720350@N06',\n",
       "   'tags': 'whisker wonderland cat lounge bellevue pittsburgh animal photography cats kittens'},\n",
       "  {'title': '250123PXL_20250123_225002654.MP',\n",
       "   'link': 'https://www.flickr.com/photos/abigailmcnattphotography/54284212934/',\n",
       "   'media': {'m': 'https://live.staticflickr.com/65535/54284212934_23ab0632f4_m.jpg'},\n",
       "   'date_taken': '2025-01-23T17:50:02-08:00',\n",
       "   'description': ' <p><a href=\"https://www.flickr.com/people/abigailmcnattphotography/\">Abigail McNatt Photography</a> posted a photo:</p> <p><a href=\"https://www.flickr.com/photos/abigailmcnattphotography/54284212934/\" title=\"250123PXL_20250123_225002654.MP\"><img src=\"https://live.staticflickr.com/65535/54284212934_23ab0632f4_m.jpg\" width=\"171\" height=\"240\" alt=\"250123PXL_20250123_225002654.MP\" /></a></p> ',\n",
       "   'published': '2025-01-24T02:31:00Z',\n",
       "   'author': 'nobody@flickr.com (\"Abigail McNatt Photography\")',\n",
       "   'author_id': '132720350@N06',\n",
       "   'tags': 'whisker wonderland cat lounge bellevue pittsburgh animal photography cats kittens'}]}"
      ]
     },
     "execution_count": 48,
     "metadata": {},
     "output_type": "execute_result"
    }
   ],
   "source": [
    "utils.errorHandle(app)('cats')"
   ]
  },
  {
   "cell_type": "code",
   "execution_count": 49,
   "metadata": {},
   "outputs": [],
   "source": [
    "# Let's define our prop\n",
    "prop = lambda property, object: object[property]"
   ]
  },
  {
   "cell_type": "code",
   "execution_count": 50,
   "metadata": {},
   "outputs": [],
   "source": [
    "mediaUrl = utils.compose(partial(prop, 'm'), partial(prop, 'media'))\n",
    "mediaUrls = utils.compose(utils.map(mediaUrl), partial(prop, 'items'))"
   ]
  },
  {
   "cell_type": "code",
   "execution_count": 51,
   "metadata": {},
   "outputs": [],
   "source": [
    "render = utils.compose(Impure.setHtml, mediaUrls)\n",
    "app = utils.compose(render, Impure.getJSON, url)"
   ]
  },
  {
   "cell_type": "code",
   "execution_count": 52,
   "metadata": {},
   "outputs": [],
   "source": [
    "img = lambda src: f\"<img src='{src}' />\""
   ]
  },
  {
   "cell_type": "code",
   "execution_count": 53,
   "metadata": {},
   "outputs": [],
   "source": [
    "images = utils.compose(utils.map(img), mediaUrls)\n",
    "render = utils.compose(Impure.setHtml, images)\n",
    "app = utils.compose(render, Impure.getJSON, url)"
   ]
  },
  {
   "cell_type": "code",
   "execution_count": 54,
   "metadata": {},
   "outputs": [
    {
     "data": {
      "text/html": [
       "<div><img src='https://live.staticflickr.com/65535/54283973416_dd5f2bc07c_m.jpg' /><img src='https://live.staticflickr.com/65535/54283085712_3305179b63_m.jpg' /><img src='https://live.staticflickr.com/65535/54284399735_013bcb6bcd_m.jpg' /><img src='https://live.staticflickr.com/65535/54284212839_296de79345_m.jpg' /><img src='https://live.staticflickr.com/65535/54283973401_3cbcf792d9_m.jpg' /><img src='https://live.staticflickr.com/65535/54284222403_bb589c3f4b_m.jpg' /><img src='https://live.staticflickr.com/65535/54283085967_cd8969df6b_m.jpg' /><img src='https://live.staticflickr.com/65535/54283973646_576e1f23af_m.jpg' /><img src='https://live.staticflickr.com/65535/54284213034_b91476bf62_m.jpg' /><img src='https://live.staticflickr.com/65535/54284212829_b37067d01c_m.jpg' /><img src='https://live.staticflickr.com/65535/54283085902_cb42151781_m.jpg' /><img src='https://live.staticflickr.com/65535/54284213204_df14cf001a_m.jpg' /><img src='https://live.staticflickr.com/65535/54284399580_04f31dcedd_m.jpg' /><img src='https://live.staticflickr.com/65535/54284222553_326377e789_m.jpg' /><img src='https://live.staticflickr.com/65535/54284213119_5276f2f9ba_m.jpg' /><img src='https://live.staticflickr.com/65535/54284222358_967733a6dc_m.jpg' /><img src='https://live.staticflickr.com/65535/54284213059_698f57096c_m.jpg' /><img src='https://live.staticflickr.com/65535/54283085812_7f265d353d_m.jpg' /><img src='https://live.staticflickr.com/65535/54284213209_6da9800ef8_m.jpg' /><img src='https://live.staticflickr.com/65535/54284212934_23ab0632f4_m.jpg' /></div>"
      ],
      "text/plain": [
       "<IPython.core.display.HTML object>"
      ]
     },
     "metadata": {},
     "output_type": "display_data"
    }
   ],
   "source": [
    "app(\"cats\")"
   ]
  },
  {
   "cell_type": "markdown",
   "metadata": {},
   "source": [
    "#### Summary\n",
    "- We tried to explore the Flickr API to display cat images.\n",
    "- We were able to maintain a minimal use of side effects, as we kept them separate from the pure codebase.\n",
    "- We focused on declarative specifications to describe what the application does, rather than how it achieves it.\n",
    "- We produced a clean, equation-like structure in the code, enabling easier reasoning and refactoring.\n",
    "\n",
    "<br/>\n",
    "\n",
    "---\n",
    "\n",
    "### A principled Refactor\n",
    "\n",
    "One of the optimisations to be aware of is the following:\n",
    "```python\n",
    "compose(map(f), map(g)) == map(compose(f, g))\n",
    "```"
   ]
  },
  {
   "cell_type": "code",
   "execution_count": 55,
   "metadata": {},
   "outputs": [],
   "source": [
    "# Original Code\n",
    "mediaUrl = utils.compose(partial(prop, 'm'), partial(prop, 'media'))\n",
    "mediaUrls = utils.compose(utils.map(mediaUrl), partial(prop, 'items'))\n",
    "images = utils.compose(utils.map(img), mediaUrls)"
   ]
  },
  {
   "cell_type": "code",
   "execution_count": 56,
   "metadata": {},
   "outputs": [],
   "source": [
    "# We Inline mediaUrls within images\n",
    "mediaUrl = utils.compose(partial(prop, 'm'), partial(prop, 'media'))\n",
    "images = utils.compose(utils.map(img), mediaUrl, partial(prop, 'items'))"
   ]
  },
  {
   "cell_type": "code",
   "execution_count": 57,
   "metadata": {},
   "outputs": [],
   "source": [
    "# Final code becomes :\n",
    "mediaUrl = utils.compose(partial(prop, 'm'), partial(prop, 'media'))\n",
    "mediaToImg = utils.compose(img, mediaUrl)\n",
    "images = utils.compose(utils.map(mediaToImg), partial(prop, 'items'))"
   ]
  },
  {
   "cell_type": "code",
   "execution_count": 58,
   "metadata": {},
   "outputs": [
    {
     "data": {
      "text/html": [
       "<div><img src='https://live.staticflickr.com/65535/54283973416_dd5f2bc07c_m.jpg' /><img src='https://live.staticflickr.com/65535/54283085712_3305179b63_m.jpg' /><img src='https://live.staticflickr.com/65535/54284399735_013bcb6bcd_m.jpg' /><img src='https://live.staticflickr.com/65535/54284212839_296de79345_m.jpg' /><img src='https://live.staticflickr.com/65535/54283973401_3cbcf792d9_m.jpg' /><img src='https://live.staticflickr.com/65535/54284222403_bb589c3f4b_m.jpg' /><img src='https://live.staticflickr.com/65535/54283085967_cd8969df6b_m.jpg' /><img src='https://live.staticflickr.com/65535/54283973646_576e1f23af_m.jpg' /><img src='https://live.staticflickr.com/65535/54284213034_b91476bf62_m.jpg' /><img src='https://live.staticflickr.com/65535/54284212829_b37067d01c_m.jpg' /><img src='https://live.staticflickr.com/65535/54283085902_cb42151781_m.jpg' /><img src='https://live.staticflickr.com/65535/54284213204_df14cf001a_m.jpg' /><img src='https://live.staticflickr.com/65535/54284399580_04f31dcedd_m.jpg' /><img src='https://live.staticflickr.com/65535/54284222553_326377e789_m.jpg' /><img src='https://live.staticflickr.com/65535/54283973446_7110bf9957_m.jpg' /><img src='https://live.staticflickr.com/65535/54283085987_1de718e4ff_m.jpg' /><img src='https://live.staticflickr.com/65535/54284222358_967733a6dc_m.jpg' /><img src='https://live.staticflickr.com/65535/54284213059_698f57096c_m.jpg' /><img src='https://live.staticflickr.com/65535/54283085812_7f265d353d_m.jpg' /><img src='https://live.staticflickr.com/65535/54284213209_6da9800ef8_m.jpg' /></div>"
      ],
      "text/plain": [
       "<IPython.core.display.HTML object>"
      ]
     },
     "metadata": {},
     "output_type": "display_data"
    }
   ],
   "source": [
    "# Let's rerun our code\n",
    "render = utils.compose(Impure.setHtml, images)\n",
    "app = utils.compose(render, Impure.getJSON, url)\n",
    "app(\"cats\")"
   ]
  }
 ],
 "metadata": {
  "kernelspec": {
   "display_name": ".env",
   "language": "python",
   "name": "python3"
  },
  "language_info": {
   "codemirror_mode": {
    "name": "ipython",
    "version": 3
   },
   "file_extension": ".py",
   "mimetype": "text/x-python",
   "name": "python",
   "nbconvert_exporter": "python",
   "pygments_lexer": "ipython3",
   "version": "3.12.5"
  }
 },
 "nbformat": 4,
 "nbformat_minor": 2
}
