{
 "cells": [
  {
   "cell_type": "markdown",
   "metadata": {},
   "source": [
    "# Chapter 06: Example Application\n",
    "\n",
    "**Declarative coding:** Focuses on describing what you want to achieve without specifying how to do it. The system handles the implementation details (e.g., SQL).\n",
    "\n",
    "**Imperative coding:** Focuses on describing how to achieve a result through explicit instructions or steps, manipulating the program's state (e.g., C, Java).\n",
    "\n",
    "**Differences:**\n",
    "- _Declarative:_ Focuses on the what\n",
    "- _Imperative:_ Focuses on the how"
   ]
  },
  {
   "cell_type": "code",
   "execution_count": 1,
   "metadata": {},
   "outputs": [],
   "source": [
    "# Initiate dependencies :\n",
    "import requests\n",
    "from IPython.display import display, HTML\n",
    "from functools import partial, reduce\n",
    "import utils\n",
    "import json"
   ]
  },
  {
   "cell_type": "markdown",
   "metadata": {},
   "source": [
    "First Example: "
   ]
  },
  {
   "cell_type": "code",
   "execution_count": 2,
   "metadata": {},
   "outputs": [],
   "source": [
    "class Car:\n",
    "    def __init__(self, name):\n",
    "        self.make = name\n",
    "\n",
    "cars = [Car('Jaguar'), Car('Volvo')]"
   ]
  },
  {
   "cell_type": "code",
   "execution_count": 3,
   "metadata": {},
   "outputs": [
    {
     "data": {
      "text/plain": [
       "['Jaguar', 'Volvo']"
      ]
     },
     "execution_count": 3,
     "metadata": {},
     "output_type": "execute_result"
    }
   ],
   "source": [
    "# imperative\n",
    "makes = []\n",
    "for i in range(len(cars)):\n",
    "    makes.append(cars[i].make)\n",
    "makes"
   ]
  },
  {
   "cell_type": "code",
   "execution_count": 4,
   "metadata": {},
   "outputs": [
    {
     "data": {
      "text/plain": [
       "['Jaguar', 'Volvo']"
      ]
     },
     "execution_count": 4,
     "metadata": {},
     "output_type": "execute_result"
    }
   ],
   "source": [
    "# declarative\n",
    "makes = list(map(lambda car: car.make, cars))\n",
    "makes"
   ]
  },
  {
   "cell_type": "markdown",
   "metadata": {},
   "source": [
    "Second Example:"
   ]
  },
  {
   "cell_type": "code",
   "execution_count": 5,
   "metadata": {},
   "outputs": [],
   "source": [
    "users = {'test': 'pass123'}\n",
    "toUser = lambda form: form['username'] if form['username'] in users and users[form['username']]==form['password'] else None \n",
    "logIn = lambda x: print(f'User {x} has logged in!') if x in users else print('User or Password Incorrect')"
   ]
  },
  {
   "cell_type": "code",
   "execution_count": 6,
   "metadata": {},
   "outputs": [
    {
     "name": "stdout",
     "output_type": "stream",
     "text": [
      "User test has logged in!\n"
     ]
    }
   ],
   "source": [
    "# imperative\n",
    "def authenticate(form):\n",
    "  user = toUser(form)\n",
    "  return logIn(user)\n",
    "\n",
    "# because there is still an encoded step-by-step evaluation within in it\n",
    "authenticate({'username': 'test', 'password': 'pass123'})"
   ]
  },
  {
   "cell_type": "code",
   "execution_count": 7,
   "metadata": {},
   "outputs": [
    {
     "name": "stdout",
     "output_type": "stream",
     "text": [
      "User test has logged in!\n"
     ]
    }
   ],
   "source": [
    "# declarative\n",
    "authenticate = utils.compose(logIn, toUser)\n",
    "\n",
    "authenticate({'username': 'test', 'password': 'pass123'})"
   ]
  },
  {
   "cell_type": "markdown",
   "metadata": {},
   "source": [
    "### Let's explore Flickr API using Functional Programming"
   ]
  },
  {
   "cell_type": "code",
   "execution_count": 8,
   "metadata": {},
   "outputs": [],
   "source": [
    "host = 'api.flickr.com'\n",
    "path = '/services/feeds/photos_public.gne'\n",
    "\n",
    "query = lambda t: f'?tags={t}&format=json&jsoncallback=?'\n",
    "url = lambda t: f'https://{host}{path}{query(t)}'"
   ]
  },
  {
   "cell_type": "markdown",
   "metadata": {},
   "source": [
    "Let’s define our own versions of getJSON and printHTML. \\\n",
    "Unlike the impure functions provided in the guide (written in JavaScript), \\\n",
    "the functions below are pure, but we’ll keep them wrapped inside Impure for reference."
   ]
  },
  {
   "cell_type": "code",
   "execution_count": 9,
   "metadata": {},
   "outputs": [],
   "source": [
    "class Impure:\n",
    "    setHtml = utils.compose(display, HTML, lambda tags: f\"<div>{reduce(lambda acc, x: f'{acc}{x}', tags, '')}</div>\")\n",
    "    getJSON = utils.compose(json.loads, lambda res: res.text[1:-1], requests.get)\n",
    "    trace = utils.trace"
   ]
  },
  {
   "cell_type": "code",
   "execution_count": 10,
   "metadata": {},
   "outputs": [],
   "source": [
    "app = utils.compose(Impure.getJSON, Impure.trace('response'), url)"
   ]
  },
  {
   "cell_type": "markdown",
   "metadata": {},
   "source": [
    "For a better error readability, we’ll wrap our function with errorHandle."
   ]
  },
  {
   "cell_type": "code",
   "execution_count": 11,
   "metadata": {},
   "outputs": [
    {
     "name": "stdout",
     "output_type": "stream",
     "text": [
      "response https://api.flickr.com/services/feeds/photos_public.gne?tags=cats&format=json&jsoncallback=?\n"
     ]
    },
    {
     "data": {
      "text/plain": [
       "{'title': 'Recent Uploads tagged cats',\n",
       " 'link': 'https://www.flickr.com/photos/tags/cats/',\n",
       " 'description': '',\n",
       " 'modified': '2025-01-25T19:38:59Z',\n",
       " 'generator': 'https://www.flickr.com',\n",
       " 'items': [{'title': 'Caturday - January 25, 2025',\n",
       "   'link': 'https://www.flickr.com/photos/kevingamin/54287360374/',\n",
       "   'media': {'m': 'https://live.staticflickr.com/65535/54287360374_bb93483aab_m.jpg'},\n",
       "   'date_taken': '2025-01-21T09:04:33-08:00',\n",
       "   'description': ' <p><a href=\"https://www.flickr.com/people/kevingamin/\">kevingamin</a> posted a photo:</p> <p><a href=\"https://www.flickr.com/photos/kevingamin/54287360374/\" title=\"Caturday - January 25, 2025\"><img src=\"https://live.staticflickr.com/65535/54287360374_bb93483aab_m.jpg\" width=\"240\" height=\"180\" alt=\"Caturday - January 25, 2025\" /></a></p> <p>Pepper Ann does this to me at least once a day when I’m working. She also lets me scritch her tummy, so it’s a perfect break from work.</p> ',\n",
       "   'published': '2025-01-25T19:38:59Z',\n",
       "   'author': 'nobody@flickr.com (\"kevingamin\")',\n",
       "   'author_id': '160471625@N08',\n",
       "   'tags': 'caturday cats pepperann'},\n",
       "  {'title': '01 Rhodes - Musée archéologique (45)',\n",
       "   'link': 'https://www.flickr.com/photos/148697583@N02/54287340340/',\n",
       "   'media': {'m': 'https://live.staticflickr.com/65535/54287340340_91ab90c488_m.jpg'},\n",
       "   'date_taken': '2024-05-17T12:19:59-08:00',\n",
       "   'description': ' <p><a href=\"https://www.flickr.com/people/148697583@N02/\">BOSTO62</a> posted a photo:</p> <p><a href=\"https://www.flickr.com/photos/148697583@N02/54287340340/\" title=\"01 Rhodes - Musée archéologique (45)\"><img src=\"https://live.staticflickr.com/65535/54287340340_91ab90c488_m.jpg\" width=\"240\" height=\"160\" alt=\"01 Rhodes - Musée archéologique (45)\" /></a></p> <p></p> ',\n",
       "   'published': '2025-01-25T17:41:33Z',\n",
       "   'author': 'nobody@flickr.com (\"BOSTO62\")',\n",
       "   'author_id': '148697583@N02',\n",
       "   'tags': 'grèce europe mer rhodes cats chat'},\n",
       "  {'title': 'Sassi Saturday: Intent',\n",
       "   'link': 'https://www.flickr.com/photos/photos_amy/54286860105/',\n",
       "   'media': {'m': 'https://live.staticflickr.com/65535/54286860105_5e437a7f5c_m.jpg'},\n",
       "   'date_taken': '2025-01-23T21:56:16-08:00',\n",
       "   'description': ' <p><a href=\"https://www.flickr.com/people/photos_amy/\">Photo Amy</a> posted a photo:</p> <p><a href=\"https://www.flickr.com/photos/photos_amy/54286860105/\" title=\"Sassi Saturday: Intent\"><img src=\"https://live.staticflickr.com/65535/54286860105_5e437a7f5c_m.jpg\" width=\"240\" height=\"240\" alt=\"Sassi Saturday: Intent\" /></a></p> <p>Sassi was intent on getting the toy that Mister was dangling above my head. She does a lot of things with intent...she\\'s a serious kitten. I think she wants to be friends with Mandy (girls have to band together) but Mandy isn\\'t buying it.</p> ',\n",
       "   'published': '2025-01-25T12:28:06Z',\n",
       "   'author': 'nobody@flickr.com (\"Photo Amy\")',\n",
       "   'author_id': '39683033@N08',\n",
       "   'tags': 'adorable beautiful cat cats cute fur furry kittensnewkitens ragdoll ragdollcat ragdollkitten whiskers sassi sassisaturday'},\n",
       "  {'title': 'Leopard cub - Laikipia - Kenya_5P5A6844-Modifica',\n",
       "   'link': 'https://www.flickr.com/photos/francesco_veronesi/54286543998/',\n",
       "   'media': {'m': 'https://live.staticflickr.com/65535/54286543998_0b335f55c5_m.jpg'},\n",
       "   'date_taken': '2025-01-06T06:02:07-08:00',\n",
       "   'description': ' <p><a href=\"https://www.flickr.com/people/francesco_veronesi/\">fveronesi1</a> posted a photo:</p> <p><a href=\"https://www.flickr.com/photos/francesco_veronesi/54286543998/\" title=\"Leopard cub - Laikipia - Kenya_5P5A6844-Modifica\"><img src=\"https://live.staticflickr.com/65535/54286543998_0b335f55c5_m.jpg\" width=\"240\" height=\"160\" alt=\"Leopard cub - Laikipia - Kenya_5P5A6844-Modifica\" /></a></p> ',\n",
       "   'published': '2025-01-25T10:40:31Z',\n",
       "   'author': 'nobody@flickr.com (\"fveronesi1\")',\n",
       "   'author_id': '30818542@N04',\n",
       "   'tags': 'cats leopard mammals kenya africa'},\n",
       "  {'title': 'Leopard cub with mother - Laikipia - Kenya_5P5A6584-Modifica',\n",
       "   'link': 'https://www.flickr.com/photos/francesco_veronesi/54285414417/',\n",
       "   'media': {'m': 'https://live.staticflickr.com/65535/54285414417_36ff484871_m.jpg'},\n",
       "   'date_taken': '2025-01-05T17:28:50-08:00',\n",
       "   'description': ' <p><a href=\"https://www.flickr.com/people/francesco_veronesi/\">fveronesi1</a> posted a photo:</p> <p><a href=\"https://www.flickr.com/photos/francesco_veronesi/54285414417/\" title=\"Leopard cub with mother - Laikipia - Kenya_5P5A6584-Modifica\"><img src=\"https://live.staticflickr.com/65535/54285414417_36ff484871_m.jpg\" width=\"240\" height=\"160\" alt=\"Leopard cub with mother - Laikipia - Kenya_5P5A6584-Modifica\" /></a></p> ',\n",
       "   'published': '2025-01-25T10:40:31Z',\n",
       "   'author': 'nobody@flickr.com (\"fveronesi1\")',\n",
       "   'author_id': '30818542@N04',\n",
       "   'tags': 'cats leopard mammals kenya africa'},\n",
       "  {'title': '(Black) Leopard - Laikipia - Kenya_5P5A5902',\n",
       "   'link': 'https://www.flickr.com/photos/francesco_veronesi/54286543843/',\n",
       "   'media': {'m': 'https://live.staticflickr.com/65535/54286543843_b00590e4a2_m.jpg'},\n",
       "   'date_taken': '2025-01-04T18:08:05-08:00',\n",
       "   'description': ' <p><a href=\"https://www.flickr.com/people/francesco_veronesi/\">fveronesi1</a> posted a photo:</p> <p><a href=\"https://www.flickr.com/photos/francesco_veronesi/54286543843/\" title=\"(Black) Leopard - Laikipia - Kenya_5P5A5902\"><img src=\"https://live.staticflickr.com/65535/54286543843_b00590e4a2_m.jpg\" width=\"160\" height=\"240\" alt=\"(Black) Leopard - Laikipia - Kenya_5P5A5902\" /></a></p> <p>Photos taken in the night with very high ISO, low quality</p> ',\n",
       "   'published': '2025-01-25T10:40:36Z',\n",
       "   'author': 'nobody@flickr.com (\"fveronesi1\")',\n",
       "   'author_id': '30818542@N04',\n",
       "   'tags': 'cats leopardblack mammals kenya africa'},\n",
       "  {'title': 'Leopard male - Laikipia - Kenya_5P5A5718-Modifica',\n",
       "   'link': 'https://www.flickr.com/photos/francesco_veronesi/54286727180/',\n",
       "   'media': {'m': 'https://live.staticflickr.com/65535/54286727180_267eb684a2_m.jpg'},\n",
       "   'date_taken': '2025-01-04T16:44:21-08:00',\n",
       "   'description': ' <p><a href=\"https://www.flickr.com/people/francesco_veronesi/\">fveronesi1</a> posted a photo:</p> <p><a href=\"https://www.flickr.com/photos/francesco_veronesi/54286727180/\" title=\"Leopard male - Laikipia - Kenya_5P5A5718-Modifica\"><img src=\"https://live.staticflickr.com/65535/54286727180_267eb684a2_m.jpg\" width=\"240\" height=\"160\" alt=\"Leopard male - Laikipia - Kenya_5P5A5718-Modifica\" /></a></p> ',\n",
       "   'published': '2025-01-25T10:40:29Z',\n",
       "   'author': 'nobody@flickr.com (\"fveronesi1\")',\n",
       "   'author_id': '30818542@N04',\n",
       "   'tags': 'cats leopard mammals kenya africa'},\n",
       "  {'title': 'slides-506_01',\n",
       "   'link': 'https://www.flickr.com/photos/j-wbrown/54286482864/',\n",
       "   'media': {'m': 'https://live.staticflickr.com/65535/54286482864_031b6806c3_m.jpg'},\n",
       "   'date_taken': '2008-01-01T12:12:17-08:00',\n",
       "   'description': ' <p><a href=\"https://www.flickr.com/people/j-wbrown/\">J-W Brown</a> posted a photo:</p> <p><a href=\"https://www.flickr.com/photos/j-wbrown/54286482864/\" title=\"slides-506_01\"><img src=\"https://live.staticflickr.com/65535/54286482864_031b6806c3_m.jpg\" width=\"240\" height=\"160\" alt=\"slides-506_01\" /></a></p> <p>Operation Cat Drop. Slide film photos taken by my late father in 1960, whilst he was based in Singapore with the RAF. I will add info from notes we found stored with the slides later.</p> ',\n",
       "   'published': '2025-01-25T09:40:44Z',\n",
       "   'author': 'nobody@flickr.com (\"J-W Brown\")',\n",
       "   'author_id': '13797487@N00',\n",
       "   'tags': 'operationcatdrop cat drop malaysia 1960 airdrop parachute cats raf'},\n",
       "  {'title': 'slides-505_01',\n",
       "   'link': 'https://www.flickr.com/photos/j-wbrown/54286489053/',\n",
       "   'media': {'m': 'https://live.staticflickr.com/65535/54286489053_b66cb65f70_m.jpg'},\n",
       "   'date_taken': '2008-01-01T12:11:18-08:00',\n",
       "   'description': ' <p><a href=\"https://www.flickr.com/people/j-wbrown/\">J-W Brown</a> posted a photo:</p> <p><a href=\"https://www.flickr.com/photos/j-wbrown/54286489053/\" title=\"slides-505_01\"><img src=\"https://live.staticflickr.com/65535/54286489053_b66cb65f70_m.jpg\" width=\"240\" height=\"160\" alt=\"slides-505_01\" /></a></p> <p>Operation Cat Drop. Slide film photos taken by my late father in 1960, whilst he was based in Singapore with the RAF. I will add info from notes we found stored with the slides later.</p> ',\n",
       "   'published': '2025-01-25T09:40:44Z',\n",
       "   'author': 'nobody@flickr.com (\"J-W Brown\")',\n",
       "   'author_id': '13797487@N00',\n",
       "   'tags': 'operationcatdrop cat drop malaysia 1960 airdrop parachute cats raf'},\n",
       "  {'title': '1 (247) austria fish',\n",
       "   'link': 'https://www.flickr.com/photos/192747352@N02/54286682000/',\n",
       "   'media': {'m': 'https://live.staticflickr.com/65535/54286682000_18a6cca681_m.jpg'},\n",
       "   'date_taken': '2019-04-12T00:29:34-08:00',\n",
       "   'description': ' <p><a href=\"https://www.flickr.com/people/192747352@N02/\">ibindaschmid</a> posted a photo:</p> <p><a href=\"https://www.flickr.com/photos/192747352@N02/54286682000/\" title=\"1 (247) austria fish\"><img src=\"https://live.staticflickr.com/65535/54286682000_18a6cca681_m.jpg\" width=\"231\" height=\"240\" alt=\"1 (247) austria fish\" /></a></p> ',\n",
       "   'published': '2025-01-25T09:43:55Z',\n",
       "   'author': 'nobody@flickr.com (\"ibindaschmid\")',\n",
       "   'author_id': '192747352@N02',\n",
       "   'tags': 'tier tiere hund dog animal animals austria fauna insekten insect cat katzen cats vögel vogel bird birds natur natures nature tierfotografie tierliebe naturephotography animalphotography wildlife photography fotografie zoo naturfotografie love wasser water meer see rinnsal sea teich lake eau agua вода 水 aqua fisch fish'},\n",
       "  {'title': 'slides-510_01',\n",
       "   'link': 'https://www.flickr.com/photos/j-wbrown/54285362732/',\n",
       "   'media': {'m': 'https://live.staticflickr.com/65535/54285362732_e5d0b92bb0_m.jpg'},\n",
       "   'date_taken': '2008-01-01T12:14:37-08:00',\n",
       "   'description': ' <p><a href=\"https://www.flickr.com/people/j-wbrown/\">J-W Brown</a> posted a photo:</p> <p><a href=\"https://www.flickr.com/photos/j-wbrown/54285362732/\" title=\"slides-510_01\"><img src=\"https://live.staticflickr.com/65535/54285362732_e5d0b92bb0_m.jpg\" width=\"240\" height=\"160\" alt=\"slides-510_01\" /></a></p> <p>Operation Cat Drop. Slide film photos taken by my late father in 1960, whilst he was based in Singapore with the RAF. I will add info from notes we found stored with the slides later.</p> ',\n",
       "   'published': '2025-01-25T09:40:43Z',\n",
       "   'author': 'nobody@flickr.com (\"J-W Brown\")',\n",
       "   'author_id': '13797487@N00',\n",
       "   'tags': 'operationcatdrop cat drop malaysia 1960 airdrop parachute cats raf'},\n",
       "  {'title': 'innocence',\n",
       "   'link': 'https://www.flickr.com/photos/106307688@N06/54286458068/',\n",
       "   'media': {'m': 'https://live.staticflickr.com/65535/54286458068_e4579a42c4_m.jpg'},\n",
       "   'date_taken': '2025-01-25T11:57:11-08:00',\n",
       "   'description': ' <p><a href=\"https://www.flickr.com/people/106307688@N06/\">oknksrr</a> posted a photo:</p> <p><a href=\"https://www.flickr.com/photos/106307688@N06/54286458068/\" title=\"innocence\"><img src=\"https://live.staticflickr.com/65535/54286458068_e4579a42c4_m.jpg\" width=\"180\" height=\"240\" alt=\"innocence\" /></a></p> ',\n",
       "   'published': '2025-01-25T09:04:37Z',\n",
       "   'author': 'nobody@flickr.com (\"oknksrr\")',\n",
       "   'author_id': '106307688@N06',\n",
       "   'tags': 'cat cats animal animals blackandwhite black white gray monochrome photography contrast cinematic'},\n",
       "  {'title': 'Harbor Cat_2978',\n",
       "   'link': 'https://www.flickr.com/photos/183989694@N02/54286552885/',\n",
       "   'media': {'m': 'https://live.staticflickr.com/65535/54286552885_2883fb1ce2_m.jpg'},\n",
       "   'date_taken': '2025-01-24T04:45:08-08:00',\n",
       "   'description': ' <p><a href=\"https://www.flickr.com/people/183989694@N02/\">Wineslacker48</a> posted a photo:</p> <p><a href=\"https://www.flickr.com/photos/183989694@N02/54286552885/\" title=\"Harbor Cat_2978\"><img src=\"https://live.staticflickr.com/65535/54286552885_2883fb1ce2_m.jpg\" width=\"240\" height=\"160\" alt=\"Harbor Cat_2978\" /></a></p> <p>This is her tree.</p> ',\n",
       "   'published': '2025-01-25T07:37:30Z',\n",
       "   'author': 'nobody@flickr.com (\"Wineslacker48\")',\n",
       "   'author_id': '183989694@N02',\n",
       "   'tags': 'california californiacoast cats housecatsinthewild'},\n",
       "  {'title': 'Felix&Oscar_03128',\n",
       "   'link': 'https://www.flickr.com/photos/wayloncash/54285828673/',\n",
       "   'media': {'m': 'https://live.staticflickr.com/65535/54285828673_029bcf2293_m.jpg'},\n",
       "   'date_taken': '2025-01-21T15:15:30-08:00',\n",
       "   'description': ' <p><a href=\"https://www.flickr.com/people/wayloncash/\">Wayloncash</a> posted a photo:</p> <p><a href=\"https://www.flickr.com/photos/wayloncash/54285828673/\" title=\"Felix&amp;Oscar_03128\"><img src=\"https://live.staticflickr.com/65535/54285828673_029bcf2293_m.jpg\" width=\"240\" height=\"135\" alt=\"Felix&amp;Oscar_03128\" /></a></p> ',\n",
       "   'published': '2025-01-24T23:13:20Z',\n",
       "   'author': 'nobody@flickr.com (\"Wayloncash\")',\n",
       "   'author_id': '97555832@N08',\n",
       "   'tags': 'spanien spain españa andalusien andalucía andalusia axarquía 2025 pets tier tiere animal animals animales sony sonyrx100vii katze katzen cats gatos'},\n",
       "  {'title': 'Siberian tiger - Tiergarten nurnberg',\n",
       "   'link': 'https://www.flickr.com/photos/mandennophotography/54284313812/',\n",
       "   'media': {'m': 'https://live.staticflickr.com/65535/54284313812_6ef23f92d9_m.jpg'},\n",
       "   'date_taken': '2023-05-06T16:06:21-08:00',\n",
       "   'description': ' <p><a href=\"https://www.flickr.com/people/mandennophotography/\">Mandenno photography</a> posted a photo:</p> <p><a href=\"https://www.flickr.com/photos/mandennophotography/54284313812/\" title=\"Siberian tiger - Tiergarten nurnberg\"><img src=\"https://live.staticflickr.com/65535/54284313812_6ef23f92d9_m.jpg\" width=\"240\" height=\"158\" alt=\"Siberian tiger - Tiergarten nurnberg\" /></a></p> ',\n",
       "   'published': '2025-01-24T19:00:08Z',\n",
       "   'author': 'nobody@flickr.com (\"Mandenno photography\")',\n",
       "   'author_id': '136445189@N07',\n",
       "   'tags': 'animal animals animalplanet animalphotography dierentuin dierenpark dieren discovery tiger tijgers tigers bigcat big cat cats bbcearth bbc germany duitsland nature natgeo natgeographic natgeowild ngc nikon z6ii nikonz6ii tiergartennurnberg tiergarten nurnberg mandennophotography mandenno photography'},\n",
       "  {'title': 'Stare Off',\n",
       "   'link': 'https://www.flickr.com/photos/nixmuse/54285078489/',\n",
       "   'media': {'m': 'https://live.staticflickr.com/65535/54285078489_3955e2b7c4_m.jpg'},\n",
       "   'date_taken': '2019-08-09T20:12:49-08:00',\n",
       "   'description': ' <p><a href=\"https://www.flickr.com/people/nixmuse/\">werewolfstyleguide</a> posted a photo:</p> <p><a href=\"https://www.flickr.com/photos/nixmuse/54285078489/\" title=\"Stare Off\"><img src=\"https://live.staticflickr.com/65535/54285078489_3955e2b7c4_m.jpg\" width=\"180\" height=\"240\" alt=\"Stare Off\" /></a></p> <p>Queso and Beep having a staring contest through the railing in the upstairs of my old home.</p> ',\n",
       "   'published': '2025-01-24T15:17:42Z',\n",
       "   'author': 'nobody@flickr.com (\"werewolfstyleguide\")',\n",
       "   'author_id': '197011652@N06',\n",
       "   'tags': 'cat cats feline felines calico calicoladiesofpittsburgh mutedcalico'},\n",
       "  {'title': 'Bean in the Band',\n",
       "   'link': 'https://www.flickr.com/photos/nixmuse/54284829986/',\n",
       "   'media': {'m': 'https://live.staticflickr.com/65535/54284829986_7643360611_m.jpg'},\n",
       "   'date_taken': '2018-03-22T16:55:14-08:00',\n",
       "   'description': ' <p><a href=\"https://www.flickr.com/people/nixmuse/\">werewolfstyleguide</a> posted a photo:</p> <p><a href=\"https://www.flickr.com/photos/nixmuse/54284829986/\" title=\"Bean in the Band\"><img src=\"https://live.staticflickr.com/65535/54284829986_7643360611_m.jpg\" width=\"192\" height=\"240\" alt=\"Bean in the Band\" /></a></p> <p>Queso Beans in an open guitar case in my old house.</p> ',\n",
       "   'published': '2025-01-24T15:12:11Z',\n",
       "   'author': 'nobody@flickr.com (\"werewolfstyleguide\")',\n",
       "   'author_id': '197011652@N06',\n",
       "   'tags': 'cat cats feline felines mutedcalico'},\n",
       "  {'title': 'Finneas Friday: Playful',\n",
       "   'link': 'https://www.flickr.com/photos/photos_amy/54284838079/',\n",
       "   'media': {'m': 'https://live.staticflickr.com/65535/54284838079_66f964d20b_m.jpg'},\n",
       "   'date_taken': '2025-01-23T21:59:11-08:00',\n",
       "   'description': ' <p><a href=\"https://www.flickr.com/people/photos_amy/\">Photo Amy</a> posted a photo:</p> <p><a href=\"https://www.flickr.com/photos/photos_amy/54284838079/\" title=\"Finneas Friday: Playful\"><img src=\"https://live.staticflickr.com/65535/54284838079_66f964d20b_m.jpg\" width=\"240\" height=\"160\" alt=\"Finneas Friday: Playful\" /></a></p> <p>Ignore how ugly everything is in this room other than Finny. He loves playing with the mylar monster. He loves playing. Mandy still isn\\'t sure about these interlopers....we had the gate up most of yesterday and she is not a fan. She hasn\\'t come down yet this morning but I\\'m sure she will be grumpy when she realizes that they are still here. Hope you have a better day than Mandy.</p> ',\n",
       "   'published': '2025-01-24T12:22:30Z',\n",
       "   'author': 'nobody@flickr.com (\"Photo Amy\")',\n",
       "   'author_id': '39683033@N08',\n",
       "   'tags': 'adorable beautiful cat cats cute fur furry kittensnewkitens ragdoll ragdollcat ragdollkitten whiskers finneas finneasfriday playing playful'},\n",
       "  {'title': '1909-14L',\n",
       "   'link': 'https://www.flickr.com/photos/oldforgecam/54283673752/',\n",
       "   'media': {'m': 'https://live.staticflickr.com/65535/54283673752_4f220d2d80_m.jpg'},\n",
       "   'date_taken': '2025-01-23T14:47:04-08:00',\n",
       "   'description': ' <p><a href=\"https://www.flickr.com/people/oldforgecam/\">Lozarithm</a> posted a photo:</p> <p><a href=\"https://www.flickr.com/photos/oldforgecam/54283673752/\" title=\"1909-14L\"><img src=\"https://live.staticflickr.com/65535/54283673752_4f220d2d80_m.jpg\" width=\"240\" height=\"160\" alt=\"1909-14L\" /></a></p> <p>Trowbridge, Wilts, 23.3.2024<br /> Loki</p> ',\n",
       "   'published': '2025-01-24T12:01:16Z',\n",
       "   'author': 'nobody@flickr.com (\"Lozarithm\")',\n",
       "   'author_id': '38307297@N08',\n",
       "   'tags': 'trowbridge wilts cats cscats loki pentaxbody pentaxk50 pentaxlens 18135mm smcpda18135mmf3556edalifdcwr'},\n",
       "  {'title': 'sweet dream with the blues by Dana Gillespie',\n",
       "   'link': 'https://www.flickr.com/photos/196886444@N08/54284796425/',\n",
       "   'media': {'m': 'https://live.staticflickr.com/65535/54284796425_8e6ee7f10f_m.jpg'},\n",
       "   'date_taken': '2025-01-24T11:38:42-08:00',\n",
       "   'description': ' <p><a href=\"https://www.flickr.com/people/196886444@N08/\">jovesljt65</a> posted a photo:</p> <p><a href=\"https://www.flickr.com/photos/196886444@N08/54284796425/\" title=\"sweet dream with the blues by Dana Gillespie\"><img src=\"https://live.staticflickr.com/65535/54284796425_8e6ee7f10f_m.jpg\" width=\"179\" height=\"240\" alt=\"sweet dream with the blues by Dana Gillespie\" /></a></p> <p>Our baby sleeps great even when I\\'m listening to the blues.</p> ',\n",
       "   'published': '2025-01-24T08:54:52Z',\n",
       "   'author': 'nobody@flickr.com (\"jovesljt65\")',\n",
       "   'author_id': '196886444@N08',\n",
       "   'tags': 'tisha kitten cats cat'}]}"
      ]
     },
     "execution_count": 11,
     "metadata": {},
     "output_type": "execute_result"
    }
   ],
   "source": [
    "utils.errorHandle(app)('cats')"
   ]
  },
  {
   "cell_type": "code",
   "execution_count": 12,
   "metadata": {},
   "outputs": [],
   "source": [
    "# Let's define our prop\n",
    "prop = lambda property, object: object[property]"
   ]
  },
  {
   "cell_type": "code",
   "execution_count": 13,
   "metadata": {},
   "outputs": [],
   "source": [
    "mediaUrl = utils.compose(partial(prop, 'm'), partial(prop, 'media'))\n",
    "mediaUrls = utils.compose(utils.map(mediaUrl), partial(prop, 'items'))"
   ]
  },
  {
   "cell_type": "code",
   "execution_count": 14,
   "metadata": {},
   "outputs": [],
   "source": [
    "render = utils.compose(Impure.setHtml, mediaUrls)\n",
    "app = utils.compose(render, Impure.getJSON, url)"
   ]
  },
  {
   "cell_type": "code",
   "execution_count": 15,
   "metadata": {},
   "outputs": [],
   "source": [
    "img = lambda src: f\"<img src='{src}' />\""
   ]
  },
  {
   "cell_type": "code",
   "execution_count": 16,
   "metadata": {},
   "outputs": [],
   "source": [
    "images = utils.compose(utils.map(img), mediaUrls)\n",
    "render = utils.compose(Impure.setHtml, images)\n",
    "app = utils.compose(render, Impure.getJSON, url)"
   ]
  },
  {
   "cell_type": "code",
   "execution_count": 17,
   "metadata": {},
   "outputs": [
    {
     "data": {
      "text/html": [
       "<div><img src='https://live.staticflickr.com/65535/54287360374_bb93483aab_m.jpg' /><img src='https://live.staticflickr.com/65535/54287340340_91ab90c488_m.jpg' /><img src='https://live.staticflickr.com/65535/54286860105_5e437a7f5c_m.jpg' /><img src='https://live.staticflickr.com/65535/54286543998_0b335f55c5_m.jpg' /><img src='https://live.staticflickr.com/65535/54285414417_36ff484871_m.jpg' /><img src='https://live.staticflickr.com/65535/54286543843_b00590e4a2_m.jpg' /><img src='https://live.staticflickr.com/65535/54286727180_267eb684a2_m.jpg' /><img src='https://live.staticflickr.com/65535/54286482864_031b6806c3_m.jpg' /><img src='https://live.staticflickr.com/65535/54286489053_b66cb65f70_m.jpg' /><img src='https://live.staticflickr.com/65535/54286682000_18a6cca681_m.jpg' /><img src='https://live.staticflickr.com/65535/54285362732_e5d0b92bb0_m.jpg' /><img src='https://live.staticflickr.com/65535/54286458068_e4579a42c4_m.jpg' /><img src='https://live.staticflickr.com/65535/54286552885_2883fb1ce2_m.jpg' /><img src='https://live.staticflickr.com/65535/54285828673_029bcf2293_m.jpg' /><img src='https://live.staticflickr.com/65535/54284313812_6ef23f92d9_m.jpg' /><img src='https://live.staticflickr.com/65535/54285078489_3955e2b7c4_m.jpg' /><img src='https://live.staticflickr.com/65535/54284829986_7643360611_m.jpg' /><img src='https://live.staticflickr.com/65535/54284838079_66f964d20b_m.jpg' /><img src='https://live.staticflickr.com/65535/54283673752_4f220d2d80_m.jpg' /><img src='https://live.staticflickr.com/65535/54284796425_8e6ee7f10f_m.jpg' /></div>"
      ],
      "text/plain": [
       "<IPython.core.display.HTML object>"
      ]
     },
     "metadata": {},
     "output_type": "display_data"
    }
   ],
   "source": [
    "app(\"cats\")"
   ]
  },
  {
   "cell_type": "markdown",
   "metadata": {},
   "source": [
    "#### Summary\n",
    "- We tried to explore the Flickr API to display cat images.\n",
    "- We were able to maintain a minimal use of side effects, as we kept them separate from the pure codebase.\n",
    "- We focused on declarative specifications to describe what the application does, rather than how it achieves it.\n",
    "- We produced a clean, equation-like structure in the code, enabling easier reasoning and refactoring.\n",
    "\n",
    "<br/>\n",
    "\n",
    "---\n",
    "\n",
    "### A principled Refactor\n",
    "\n",
    "One of the optimisations to be aware of is the following:\n",
    "```python\n",
    "compose(map(f), map(g)) == map(compose(f, g))\n",
    "```"
   ]
  },
  {
   "cell_type": "code",
   "execution_count": 18,
   "metadata": {},
   "outputs": [],
   "source": [
    "# Original Code\n",
    "mediaUrl = utils.compose(partial(prop, 'm'), partial(prop, 'media'))\n",
    "mediaUrls = utils.compose(utils.map(mediaUrl), partial(prop, 'items'))\n",
    "images = utils.compose(utils.map(img), mediaUrls)"
   ]
  },
  {
   "cell_type": "code",
   "execution_count": 19,
   "metadata": {},
   "outputs": [],
   "source": [
    "# We Inline mediaUrls within images\n",
    "mediaUrl = utils.compose(partial(prop, 'm'), partial(prop, 'media'))\n",
    "images = utils.compose(utils.map(img), mediaUrl, partial(prop, 'items'))"
   ]
  },
  {
   "cell_type": "code",
   "execution_count": 20,
   "metadata": {},
   "outputs": [],
   "source": [
    "# Final code becomes :\n",
    "mediaUrl = utils.compose(partial(prop, 'm'), partial(prop, 'media'))\n",
    "mediaToImg = utils.compose(img, mediaUrl)\n",
    "images = utils.compose(utils.map(mediaToImg), partial(prop, 'items'))"
   ]
  },
  {
   "cell_type": "code",
   "execution_count": 21,
   "metadata": {},
   "outputs": [
    {
     "data": {
      "text/html": [
       "<div><img src='https://live.staticflickr.com/65535/54287360374_bb93483aab_m.jpg' /><img src='https://live.staticflickr.com/65535/54287340340_91ab90c488_m.jpg' /><img src='https://live.staticflickr.com/65535/54286860105_5e437a7f5c_m.jpg' /><img src='https://live.staticflickr.com/65535/54286543998_0b335f55c5_m.jpg' /><img src='https://live.staticflickr.com/65535/54285414417_36ff484871_m.jpg' /><img src='https://live.staticflickr.com/65535/54286543843_b00590e4a2_m.jpg' /><img src='https://live.staticflickr.com/65535/54286727180_267eb684a2_m.jpg' /><img src='https://live.staticflickr.com/65535/54286482864_031b6806c3_m.jpg' /><img src='https://live.staticflickr.com/65535/54286489053_b66cb65f70_m.jpg' /><img src='https://live.staticflickr.com/65535/54286682000_18a6cca681_m.jpg' /><img src='https://live.staticflickr.com/65535/54285362732_e5d0b92bb0_m.jpg' /><img src='https://live.staticflickr.com/65535/54286458068_e4579a42c4_m.jpg' /><img src='https://live.staticflickr.com/65535/54286552885_2883fb1ce2_m.jpg' /><img src='https://live.staticflickr.com/65535/54284313812_6ef23f92d9_m.jpg' /><img src='https://live.staticflickr.com/65535/54285078489_3955e2b7c4_m.jpg' /><img src='https://live.staticflickr.com/65535/54284829986_7643360611_m.jpg' /><img src='https://live.staticflickr.com/65535/54284838079_66f964d20b_m.jpg' /><img src='https://live.staticflickr.com/65535/54283673752_4f220d2d80_m.jpg' /><img src='https://live.staticflickr.com/65535/54284796425_8e6ee7f10f_m.jpg' /><img src='https://live.staticflickr.com/65535/54283973416_dd5f2bc07c_m.jpg' /></div>"
      ],
      "text/plain": [
       "<IPython.core.display.HTML object>"
      ]
     },
     "metadata": {},
     "output_type": "display_data"
    }
   ],
   "source": [
    "# Let's rerun our code\n",
    "render = utils.compose(Impure.setHtml, images)\n",
    "app = utils.compose(render, Impure.getJSON, url)\n",
    "app(\"cats\")"
   ]
  },
  {
   "cell_type": "markdown",
   "metadata": {},
   "source": [
    "---\n",
    "##### Summary\n",
    "We applied our skills to a real-world app, using a mathematical framework to improve and refactor code. \\\n",
    "Next, we'll need to address error handling, code branching, and making the app fully pure, safer, and more expressive."
   ]
  }
 ],
 "metadata": {
  "kernelspec": {
   "display_name": ".env",
   "language": "python",
   "name": "python3"
  },
  "language_info": {
   "codemirror_mode": {
    "name": "ipython",
    "version": 3
   },
   "file_extension": ".py",
   "mimetype": "text/x-python",
   "name": "python",
   "nbconvert_exporter": "python",
   "pygments_lexer": "ipython3",
   "version": "3.12.5"
  }
 },
 "nbformat": 4,
 "nbformat_minor": 2
}
