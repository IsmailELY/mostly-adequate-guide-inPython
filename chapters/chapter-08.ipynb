{
 "cells": [
  {
   "cell_type": "markdown",
   "metadata": {},
   "source": [
    "# Chapter 08: Tupperware\n",
    "\n",
    "This chapter unveils the foundations of control flow, error handling, state, and effects, extending the power of pure functions.<br><br>\n",
    "\n",
    "\n",
    "---\n",
    "<br>\n",
    "\n",
    "#### The Mighty Container:"
   ]
  },
  {
   "cell_type": "code",
   "execution_count": 1,
   "metadata": {},
   "outputs": [],
   "source": [
    "class Container:\n",
    "    def __init__(self, x):\n",
    "        self.value = x\n",
    "    \n",
    "    @staticmethod\n",
    "    def of(x):\n",
    "        return Container(x)"
   ]
  },
  {
   "cell_type": "code",
   "execution_count": 2,
   "metadata": {},
   "outputs": [
    {
     "name": "stdout",
     "output_type": "stream",
     "text": [
      "3\n",
      "hotdogs\n",
      "{'name': 'yoda'}\n"
     ]
    }
   ],
   "source": [
    "print(Container.of(3).value)                                            # Container(3)\n",
    "\n",
    "print(Container.of('hotdogs').value)                                    # Container(\"hotdogs\")\n",
    "\n",
    "print(Container.of(Container.of({ 'name': 'yoda' })).value.value)       # Container(Container({ name: 'yoda' }))"
   ]
  },
  {
   "cell_type": "markdown",
   "metadata": {},
   "source": [
    "<u><b>Rules:</b></u>\n",
    "- Container is an object with <u>one property</u>. <br>Lots of containers just hold <u>one thing</u>, though they aren't limited to one. <br>We've arbitrarily named its property <u>value</u>.\n",
    "\n",
    "- The value <u>cannot be one specific type</u>.\n",
    "\n",
    "- Once data goes <u>into</u> the Container it <u>stays there</u>. <br>We could get it out by using <u>.value</u>, but that would <u>defeat</u> the purpose."
   ]
  },
  {
   "cell_type": "markdown",
   "metadata": {},
   "source": [
    "---\n",
    "\n",
    "<br>\n",
    "\n",
    "#### My First Functor:\n",
    "\n",
    "<b>Defintion</b><br>\n",
    "In mathematics, specifically category theory, a functor is a mapping between categories.\n",
    "\n",
    "We need a way to run functions on our container."
   ]
  },
  {
   "cell_type": "code",
   "execution_count": 3,
   "metadata": {},
   "outputs": [],
   "source": [
    "# (a -> b) -> Container a -> Container b\n",
    "Container.map = lambda self, f: Container.of(f(self.value))"
   ]
  },
  {
   "cell_type": "code",
   "execution_count": 4,
   "metadata": {},
   "outputs": [
    {
     "name": "stdout",
     "output_type": "stream",
     "text": [
      "Expect: Container(4):\t\t\tOutput: 4\n",
      "Expect: Container('FLAMETHROWERS'):\tOutput: FLAMETHROWERS\n",
      "Expect: Container(10):\t\t\tOutput: 10\n"
     ]
    }
   ],
   "source": [
    "e1 = Container.of(2).map(lambda two: two + 2)\n",
    "print(f\"Expect: Container(4):\\t\\t\\tOutput: {e1.value}\")\n",
    "\n",
    "e2 = Container.of('flamethrowers').map(lambda s: str.upper(s))\n",
    "print(f\"Expect: Container('FLAMETHROWERS'):\\tOutput: {e2.value}\")\n",
    "\n",
    "e3 = Container.of('bombs').map(lambda s: f'{s} away').map(len)\n",
    "print(f\"Expect: Container(10):\\t\\t\\tOutput: {e3.value}\")\n",
    "\n",
    "del e1, e2, e3"
   ]
  },
  {
   "cell_type": "markdown",
   "metadata": {},
   "source": [
    "#### Schrödinger's Maybe :\n"
   ]
  },
  {
   "cell_type": "code",
   "execution_count": 5,
   "metadata": {},
   "outputs": [],
   "source": [
    "from utils import curry, compose, map, trace\n",
    "from functools import partial\n",
    "import re"
   ]
  },
  {
   "cell_type": "code",
   "execution_count": 6,
   "metadata": {},
   "outputs": [],
   "source": [
    "class Maybe:\n",
    "    @staticmethod\n",
    "    def of(x):\n",
    "        return Maybe(x)\n",
    "\n",
    "    def isNothing(self):\n",
    "        return not self.value\n",
    "\n",
    "    def __init__(self, x):\n",
    "        self.value = x\n",
    "  \n",
    "\n",
    "    map = curry(lambda self, fn: self if self.isNothing() else Maybe.of(fn(self.value)))\n",
    "  \n",
    "    # The equivalent of inspect() in python is __str__ method\n",
    "    def __str__(self):\n",
    "        return 'Nothing' if self.isNothing() else f'Just({self.value})'"
   ]
  },
  {
   "cell_type": "code",
   "execution_count": 7,
   "metadata": {},
   "outputs": [],
   "source": [
    "match = curry(lambda reg, s:  bool(re.findall(reg, s)))\n",
    "prop = curry(lambda p, obj: obj[p] if p in obj else None)\n",
    "add = curry(lambda n, x: n+x)"
   ]
  },
  {
   "cell_type": "code",
   "execution_count": 8,
   "metadata": {},
   "outputs": [
    {
     "name": "stdout",
     "output_type": "stream",
     "text": [
      "Expect: Just(True)\tOutput: Just(True)\n",
      "Expect: Nothing\t\tOutput: Nothing\n",
      "Expect: Nothing\t\tOutput: Nothing\n",
      "Expect: Just(24)\tOutput: Just(24)\n"
     ]
    }
   ],
   "source": [
    "e1 = Maybe.of('Malkovich Malkovich').map(match(r'a'))\n",
    "print(f\"Expect: Just(True)\\tOutput: {e1}\")\n",
    "\n",
    "e2 = Maybe.of(None).map(match(r'a'))\n",
    "print(f\"Expect: Nothing\\t\\tOutput: {e2}\")\n",
    "\n",
    "e3 = Maybe.of({ 'name': 'Boris' }).map(prop('age')).map(add(10))\n",
    "print(f\"Expect: Nothing\\t\\tOutput: {e3}\")\n",
    "\n",
    "e4 = Maybe.of({ 'name': 'Dinah', 'age': 14 }).map(prop('age')).map(add(10))\n",
    "print(f\"Expect: Just(24)\\tOutput: {e4}\")\n",
    "\n",
    "del e1, e2, e3, e4"
   ]
  },
  {
   "cell_type": "markdown",
   "metadata": {},
   "source": [
    "<b>Note for map:</b><br>\n",
    "```map :: Functor f => (a -> b) -> f a -> f b```\n",
    "\n",
    "---\n",
    "\n",
    "#### Use Cases\n"
   ]
  },
  {
   "cell_type": "code",
   "execution_count": 9,
   "metadata": {},
   "outputs": [],
   "source": [
    "# safeHead :: [a] -> Maybe(a)\n",
    "safeHead = lambda xs : Maybe.of(xs[0] if xs else None)\n",
    "\n",
    "# streetName :: Object -> Maybe String\n",
    "streetName = compose(Maybe.map(fn=prop('street')), safeHead, prop('addresses'))"
   ]
  },
  {
   "cell_type": "code",
   "execution_count": 10,
   "metadata": {},
   "outputs": [
    {
     "name": "stdout",
     "output_type": "stream",
     "text": [
      "Expect: Nothing\t\t\tOutput: Nothing\n",
      "Expect: Just('Shady Ln.')\tOutput: Just(Shady Ln.)\n"
     ]
    }
   ],
   "source": [
    "e1 = streetName({ 'addresses': [] })\n",
    "print(f\"Expect: Nothing\\t\\t\\tOutput: {e1}\")\n",
    "\n",
    "e2 = streetName({ 'addresses': [{ 'street': 'Shady Ln.', 'number': 4201 }] })\n",
    "print(f\"Expect: Just('Shady Ln.')\\tOutput: {e2}\")\n",
    "\n",
    "del e1, e2"
   ]
  },
  {
   "cell_type": "code",
   "execution_count": null,
   "metadata": {},
   "outputs": [],
   "source": []
  }
 ],
 "metadata": {
  "kernelspec": {
   "display_name": ".env",
   "language": "python",
   "name": "python3"
  },
  "language_info": {
   "codemirror_mode": {
    "name": "ipython",
    "version": 3
   },
   "file_extension": ".py",
   "mimetype": "text/x-python",
   "name": "python",
   "nbconvert_exporter": "python",
   "pygments_lexer": "ipython3",
   "version": "3.12.5"
  }
 },
 "nbformat": 4,
 "nbformat_minor": 2
}
