{
 "cells": [
  {
   "cell_type": "markdown",
   "metadata": {},
   "source": [
    "# Chapter 08: Tupperware\n",
    "\n",
    "This chapter unveils the foundations of control flow, error handling, state, and effects, extending the power of pure functions.<br><br>\n",
    "\n",
    "\n",
    "---\n",
    "<br>\n",
    "\n",
    "#### The Mighty Container:"
   ]
  },
  {
   "cell_type": "code",
   "execution_count": 1,
   "metadata": {},
   "outputs": [],
   "source": [
    "class Container:\n",
    "    def __init__(self, x):\n",
    "        self.value = x\n",
    "    \n",
    "    @staticmethod\n",
    "    def of(x):\n",
    "        return Container(x)"
   ]
  },
  {
   "cell_type": "code",
   "execution_count": 2,
   "metadata": {},
   "outputs": [
    {
     "name": "stdout",
     "output_type": "stream",
     "text": [
      "3\n",
      "hotdogs\n",
      "{'name': 'yoda'}\n"
     ]
    }
   ],
   "source": [
    "print(Container.of(3).value)                                            # Container(3)\n",
    "\n",
    "print(Container.of('hotdogs').value)                                    # Container(\"hotdogs\")\n",
    "\n",
    "print(Container.of(Container.of({ 'name': 'yoda' })).value.value)       # Container(Container({ name: 'yoda' }))"
   ]
  },
  {
   "cell_type": "markdown",
   "metadata": {},
   "source": [
    "<u><b>Rules:</b></u>\n",
    "- Container is an object with <u>one property</u>. <br>Lots of containers just hold <u>one thing</u>, though they aren't limited to one. <br>We've arbitrarily named its property <u>value</u>.\n",
    "\n",
    "- The value <u>cannot be one specific type</u>.\n",
    "\n",
    "- Once data goes <u>into</u> the Container it <u>stays there</u>. <br>We could get it out by using <u>.value</u>, but that would <u>defeat</u> the purpose."
   ]
  },
  {
   "cell_type": "markdown",
   "metadata": {},
   "source": [
    "---\n",
    "\n",
    "<br>\n",
    "\n",
    "#### My First Functor:\n",
    "\n",
    "<b>Defintion</b><br>\n",
    "In mathematics, specifically category theory, a functor is a mapping between categories.\n",
    "\n",
    "We need a way to run functions on our container."
   ]
  },
  {
   "cell_type": "code",
   "execution_count": 3,
   "metadata": {},
   "outputs": [],
   "source": [
    "# (a -> b) -> Container a -> Container b\n",
    "Container.map = lambda self, f: Container.of(f(self.value))"
   ]
  },
  {
   "cell_type": "code",
   "execution_count": 4,
   "metadata": {},
   "outputs": [
    {
     "name": "stdout",
     "output_type": "stream",
     "text": [
      "Expect: Container(4):\t\t\tOutput: 4\n",
      "Expect: Container('FLAMETHROWERS'):\tOutput: FLAMETHROWERS\n",
      "Expect: Container(10):\t\t\tOutput: 10\n"
     ]
    }
   ],
   "source": [
    "e1 = Container.of(2).map(lambda two: two + 2)\n",
    "print(f\"Expect: Container(4):\\t\\t\\tOutput: {e1.value}\")\n",
    "\n",
    "e2 = Container.of('flamethrowers').map(lambda s: str.upper(s))\n",
    "print(f\"Expect: Container('FLAMETHROWERS'):\\tOutput: {e2.value}\")\n",
    "\n",
    "e3 = Container.of('bombs').map(lambda s: f'{s} away').map(len)\n",
    "print(f\"Expect: Container(10):\\t\\t\\tOutput: {e3.value}\")\n",
    "\n",
    "del e1, e2, e3"
   ]
  },
  {
   "cell_type": "markdown",
   "metadata": {},
   "source": [
    "#### Schrödinger's Maybe :\n"
   ]
  },
  {
   "cell_type": "code",
   "execution_count": 5,
   "metadata": {},
   "outputs": [],
   "source": [
    "from utils import curry, compose, trace\n",
    "from functools import partial\n",
    "import re"
   ]
  },
  {
   "cell_type": "code",
   "execution_count": 6,
   "metadata": {},
   "outputs": [],
   "source": [
    "class Maybe:\n",
    "    @staticmethod\n",
    "    def of(x):\n",
    "        return Maybe(x)\n",
    "\n",
    "    def isNothing(self):\n",
    "        return not self.value\n",
    "\n",
    "    def __init__(self, x):\n",
    "        self.value = x\n",
    "  \n",
    "\n",
    "    map = curry(lambda self, fn: self if self.isNothing() else Maybe.of(fn(self.value)))\n",
    "  \n",
    "    # The equivalent of inspect() in python is __str__ method\n",
    "    def __str__(self):\n",
    "        return 'Nothing' if self.isNothing() else f'Just({self.value})'"
   ]
  },
  {
   "cell_type": "code",
   "execution_count": 7,
   "metadata": {},
   "outputs": [],
   "source": [
    "# Let's redefine our map function as we'll be using map from the class\n",
    "map = curry(lambda f, xs: [f(s) for s in xs] if isinstance(xs, list) else xs.map(f))\n",
    "\n",
    "match = curry(lambda reg, s:  bool(re.findall(reg, s)))\n",
    "prop = curry(lambda p, obj: obj[p] if p in obj else None)\n",
    "add = curry(lambda n, x: n+x)"
   ]
  },
  {
   "cell_type": "code",
   "execution_count": 8,
   "metadata": {},
   "outputs": [
    {
     "name": "stdout",
     "output_type": "stream",
     "text": [
      "Expect: Just(True)\tOutput: Just(True)\n",
      "Expect: Nothing\t\tOutput: Nothing\n",
      "Expect: Nothing\t\tOutput: Nothing\n",
      "Expect: Just(24)\tOutput: Just(24)\n"
     ]
    }
   ],
   "source": [
    "e1 = Maybe.of('Malkovich Malkovich').map(match(r'a'))\n",
    "print(f\"Expect: Just(True)\\tOutput: {e1}\")\n",
    "\n",
    "e2 = Maybe.of(None).map(match(r'a'))\n",
    "print(f\"Expect: Nothing\\t\\tOutput: {e2}\")\n",
    "\n",
    "e3 = Maybe.of({ 'name': 'Boris' }).map(prop('age')).map(add(10))\n",
    "print(f\"Expect: Nothing\\t\\tOutput: {e3}\")\n",
    "\n",
    "e4 = Maybe.of({ 'name': 'Dinah', 'age': 14 }).map(prop('age')).map(add(10))\n",
    "print(f\"Expect: Just(24)\\tOutput: {e4}\")\n",
    "\n",
    "del e1, e2, e3, e4"
   ]
  },
  {
   "cell_type": "markdown",
   "metadata": {},
   "source": [
    "<b>Note for map:</b><br>\n",
    "```map :: Functor f => (a -> b) -> f a -> f b```\n",
    "\n",
    "---\n",
    "\n",
    "#### Use Cases\n"
   ]
  },
  {
   "cell_type": "code",
   "execution_count": 9,
   "metadata": {},
   "outputs": [],
   "source": [
    "# safeHead :: [a] -> Maybe(a)\n",
    "safeHead = lambda xs : Maybe.of(xs[0] if xs else None)\n",
    "\n",
    "# streetName :: Object -> Maybe String\n",
    "streetName = compose(map(prop('street')), safeHead, prop('addresses'))"
   ]
  },
  {
   "cell_type": "code",
   "execution_count": 10,
   "metadata": {},
   "outputs": [
    {
     "name": "stdout",
     "output_type": "stream",
     "text": [
      "Expect: Nothing\t\t\tOutput: Nothing\n",
      "Expect: Just('Shady Ln.')\tOutput: Just(Shady Ln.)\n"
     ]
    }
   ],
   "source": [
    "e1 = streetName({ 'addresses': [] })\n",
    "print(f\"Expect: Nothing\\t\\t\\tOutput: {e1}\")\n",
    "\n",
    "e2 = streetName({ 'addresses': [{ 'street': 'Shady Ln.', 'number': 4201 }] })\n",
    "print(f\"Expect: Just('Shady Ln.')\\tOutput: {e2}\")\n",
    "\n",
    "del e1, e2"
   ]
  },
  {
   "cell_type": "markdown",
   "metadata": {},
   "source": [
    "```null``` values are no longer affecting our code"
   ]
  },
  {
   "cell_type": "code",
   "execution_count": 11,
   "metadata": {},
   "outputs": [],
   "source": [
    "# withdraw :: Number -> Account -> Maybe(Account)\n",
    "withdraw = curry(lambda amount, account: \n",
    "                        Maybe.of(\n",
    "                            { 'balance': account.get('balance') - amount } \n",
    "                            if account.get('balance') >= amount \n",
    "                            else None))\n",
    "\n",
    "# This function is hypothetical, not implemented here... nor anywhere else.\n",
    "# updateLedger :: Account -> Account \n",
    "updateLedger = lambda account: account\n",
    "\n",
    "# remainingBalance :: Account -> String\n",
    "remainingBalance = lambda account: f'Your balance is ${account.get('balance')}'\n",
    "\n",
    "# finishTransaction :: Account -> String\n",
    "finishTransaction = compose(remainingBalance, updateLedger)\n",
    "\n",
    "# getTwenty :: Account -> Maybe(String)\n",
    "getTwenty = compose(Maybe.map(fn=finishTransaction), withdraw(20))"
   ]
  },
  {
   "cell_type": "code",
   "execution_count": 12,
   "metadata": {},
   "outputs": [
    {
     "name": "stdout",
     "output_type": "stream",
     "text": [
      "Expect: Just('Your balance is $180')\tOutput: Just(Your balance is $180.0)\n",
      "Expect: Nothing\t\t\t\tOutput: Nothing\n"
     ]
    }
   ],
   "source": [
    "e1 = getTwenty({ 'balance': 200.00 }) \n",
    "print(f\"Expect: Just('Your balance is $180')\\tOutput: {e1}\")\n",
    "\n",
    "e2 = getTwenty({ 'balance': 10.00 })\n",
    "print(f\"Expect: Nothing\\t\\t\\t\\tOutput: {e2}\")\n",
    "\n",
    "del e1, e2"
   ]
  },
  {
   "cell_type": "markdown",
   "metadata": {},
   "source": [
    "Unlike before, where null values were undesirable, here they are used intentionally to cancel the <br>\n",
    "transaction when funds are insufficient, preventing unintended updates to the ledger or balance.<br>\n",
    "\n",
    "---\n",
    "\n",
    "#### Releasing the Value:\n",
    "\n",
    "Don't try to extract a value from a ```Maybe``` instance as if it will always exist.<br>\n",
    "We must acknowledge that it may not - <u>Like Schrödinger’s cat !</u><br>\n",
    "\n",
    "But we can use a helper we call ```maybe```:\n"
   ]
  },
  {
   "cell_type": "code",
   "execution_count": 13,
   "metadata": {},
   "outputs": [],
   "source": [
    "# maybe :: b -> (a -> b) -> Maybe a -> b\n",
    "maybe = curry(lambda v, f, m: v if m.isNothing() else f(m.value))\n",
    "\n",
    "# getTwenty :: Account -> String\n",
    "getTwenty = compose(maybe('You\\'re broke!', finishTransaction), withdraw(20))"
   ]
  },
  {
   "cell_type": "code",
   "execution_count": 14,
   "metadata": {},
   "outputs": [
    {
     "name": "stdout",
     "output_type": "stream",
     "text": [
      "Expect: 'Your balance is $180.00'\t\tOutput: Your balance is $180.0\n",
      "Expect: 'You're broke!'\t\t\t\tOutput: You're broke!\n"
     ]
    }
   ],
   "source": [
    "e1 = getTwenty({ 'balance': 200.00 })\n",
    "print(f\"Expect: 'Your balance is $180.00'\\t\\tOutput: {e1}\")\n",
    "\n",
    "e2 = getTwenty({ 'balance': 10.00 })\n",
    "print(f\"Expect: 'You\\'re broke!'\\t\\t\\t\\tOutput: {e2}\")\n",
    "\n",
    "del e1, e2"
   ]
  },
  {
   "cell_type": "markdown",
   "metadata": {},
   "source": [
    "##### <b>Summary:</b>\n",
    "```Maybe``` (or ```Option```) – <b>Handles optional values</b>: \n",
    "- Represents a value that might be present (```Just x```) or missing (```Nothing```).\n",
    "- Prevents ```None``` or ```null``` errors.\n",
    "<br>\n",
    "<br>\n",
    "---\n",
    "\n",
    "#### Pure Error Handling:\n",
    "\n",
    "try/except is not very pure.<br>\n",
    "Instead of raising Errors in an aggressive manner for an invalid input.<br>\n",
    "We can gently communicate the issue."
   ]
  },
  {
   "cell_type": "code",
   "execution_count": 15,
   "metadata": {},
   "outputs": [],
   "source": [
    "class Either:\n",
    "    @staticmethod\n",
    "    def of(x):\n",
    "        return Right(x)\n",
    "\n",
    "    def __init__(self, x):\n",
    "        self.value = x\n",
    "    \n",
    "class Left(Either):\n",
    "    map = curry(lambda self, f: self)\n",
    "\n",
    "    def __str__(self):\n",
    "        return f'Left({self.value})'\n",
    "\n",
    "class Right(Either):\n",
    "    map = curry(lambda self, f: Either.of(f(self.value)))\n",
    "\n",
    "    def __str__(self):\n",
    "        return f'Right({self.value})'\n",
    "\n",
    "left = lambda x: Left(x)"
   ]
  },
  {
   "cell_type": "code",
   "execution_count": 16,
   "metadata": {},
   "outputs": [
    {
     "name": "stdout",
     "output_type": "stream",
     "text": [
      "Expect: Right('brain')\t\t\t\tOutput: Right(brain)\n",
      "Expect: Left('rain')\t\t\t\tOutput: Left(rain)\n",
      "Expect: Right('localhost')\t\t\tOutput: Right(localhost)\n",
      "Expect: Left('rolls eyes...')\t\t\tOutput: Left(rolls eyes...)\n"
     ]
    }
   ],
   "source": [
    "e1 = Either.of('rain').map(lambda str: f'b{str}') \n",
    "print(f\"Expect: Right('brain')\\t\\t\\t\\tOutput: {e1}\")\n",
    " \n",
    "e2 = left('rain').map(lambda str: f\"It's gonna {str}, better bring your umbrella!\")\n",
    "print(f\"Expect: Left('rain')\\t\\t\\t\\tOutput: {e2}\")\n",
    "\n",
    "e3 = Either.of({ 'host': 'localhost', 'port': 80 }).map(prop('host'))\n",
    "print(f\"Expect: Right('localhost')\\t\\t\\tOutput: {e3}\")\n",
    "\n",
    "e4 = left('rolls eyes...').map(prop('host'));\n",
    "print(f\"Expect: Left('rolls eyes...')\\t\\t\\tOutput: {e4}\")\n",
    "\n",
    "del e1, e2, e3, e4"
   ]
  },
  {
   "cell_type": "markdown",
   "metadata": {},
   "source": [
    "Let's customize our errors."
   ]
  },
  {
   "cell_type": "code",
   "execution_count": 17,
   "metadata": {},
   "outputs": [],
   "source": [
    "import datetime as dt\n",
    "from dateutil.relativedelta import relativedelta\n",
    "\n",
    "moment = dt.datetime.now"
   ]
  },
  {
   "cell_type": "code",
   "execution_count": 18,
   "metadata": {},
   "outputs": [],
   "source": [
    "def getAge(now, user):\n",
    "    try:\n",
    "        birthDate = dt.datetime.strptime(prop('birthDate')(user), '%Y-%m-%d')\n",
    "    except:\n",
    "        birthDate = None\n",
    "    \n",
    "    return Either.of(relativedelta(now, birthDate).years) if birthDate else left('Birth date could not be parsed')\n",
    "\n",
    "# getAge :: Date -> User -> Either(String, Number)\n",
    "getAge = curry(getAge)"
   ]
  },
  {
   "cell_type": "markdown",
   "metadata": {},
   "source": [
    "The try/except clause was used to replace birthDate with an alternative value."
   ]
  },
  {
   "cell_type": "code",
   "execution_count": 19,
   "metadata": {},
   "outputs": [
    {
     "name": "stdout",
     "output_type": "stream",
     "text": [
      "Expect: Right(19)\t\t\t\tOutput: Right(19)\n",
      "Expect: Left('Birth date could not be parsed')\tOutput: Left(Birth date could not be parsed)\n"
     ]
    }
   ],
   "source": [
    "e1 = getAge(moment(), { 'birthDate': '2005-12-12' })\n",
    "print(f\"Expect: Right(19)\\t\\t\\t\\tOutput: {e1}\")\n",
    "\n",
    "e2 = getAge(moment(), { 'birthDate': 'July 4, 2001' })\n",
    "print(f\"Expect: Left('Birth date could not be parsed')\\tOutput: {e2}\")\n",
    "\n",
    "del e1, e2"
   ]
  },
  {
   "cell_type": "code",
   "execution_count": 20,
   "metadata": {},
   "outputs": [],
   "source": [
    "# We can define our concat equivalent to a curried version using str.__add__\n",
    "concat = curry(lambda s,t: s+t)\n",
    "\n",
    "# fortune :: Number -> String\n",
    "fortune = compose(concat('If you survive, you will be '), str, add(1))\n",
    "\n",
    "# zoltar :: User -> Either(String, _)\n",
    "zoltar = compose(map(print), map(fortune), getAge(moment()))"
   ]
  },
  {
   "cell_type": "code",
   "execution_count": 21,
   "metadata": {},
   "outputs": [
    {
     "name": "stdout",
     "output_type": "stream",
     "text": [
      "If you survive, you will be 20\n",
      "Right(None)\n",
      "Expect:\tIf you survive, you will be 10'\n",
      "\tRight(None)\n",
      "\n",
      "Expect: Left('Birth date could not be parsed')\n",
      "Output: Left(Birth date could not be parsed)\n"
     ]
    }
   ],
   "source": [
    "e1 = zoltar({ 'birthDate': '2005-12-12' })\n",
    "print(f\"{e1}\\nExpect:\\tIf you survive, you will be 10'\\n\\tRight(None)\\n\")\n",
    "\n",
    "\n",
    "e2 = zoltar({ 'birthDate': 'balloons!' })\n",
    "print(f\"Expect: Left('Birth date could not be parsed')\\nOutput: {e2}\")\n",
    "\n",
    "del e1, e2"
   ]
  },
  {
   "cell_type": "markdown",
   "metadata": {},
   "source": [
    "- Lifting a function means transforming a <u>normal</u> function into a <u>higher-order</u> function that works within a functor, monad, or another computational context.\n",
    "- This allows functions to be applied to values wrapped inside structures like <u>Maybe</u>, <u>Either</u> without manually unpacking them.\n",
    "\n",
    "Next, we introduce little ```either```:"
   ]
  },
  {
   "cell_type": "code",
   "execution_count": 22,
   "metadata": {},
   "outputs": [],
   "source": [
    "# id :: identity a -> a\n",
    "identity = lambda x: x\n",
    "\n",
    "# either :: (a -> c) -> (b -> c) -> Either a b -> c\n",
    "either = curry(lambda f, g, e: f(e.value) if isinstance(e, Left) else g(e.value) if isinstance(e, Right) else None)\n",
    "\n",
    "# zoltar :: User -> _\n",
    "zoltar = compose(print, either(identity, fortune), getAge(moment()))"
   ]
  },
  {
   "cell_type": "code",
   "execution_count": 27,
   "metadata": {},
   "outputs": [
    {
     "name": "stdout",
     "output_type": "stream",
     "text": [
      "If you survive, you will be 20\n",
      "None\n",
      "Expect: 'If you survive, you will be 20'\n",
      "\tNone\n",
      "\n",
      "Birth date could not be parsed\n",
      "None\n",
      "Expect: 'Birth date could not be parsed'\n",
      "\tNone\n"
     ]
    }
   ],
   "source": [
    "e1 = zoltar({ 'birthDate': '2005-12-12' })\n",
    "print(f\"{e1}\\nExpect: 'If you survive, you will be 20'\\n\\tNone\\n\")\n",
    "\n",
    "e2 = zoltar({ 'birthDate': 'balloons!' })\n",
    "print(f\"{e2}\\nExpect: 'Birth date could not be parsed'\\n\\tNone\")\n",
    "\n",
    "del e1, e2"
   ]
  },
  {
   "cell_type": "markdown",
   "metadata": {},
   "source": [
    "Identity function was finaly used.<br>\n",
    "Combined with ```either```, it becomes a great tool to skip morphisms when the conditions are not met !<br><br>\n",
    "\n",
    "##### <b>Summary:</b>\n",
    "```Either``` – <b>Handles computations that can fail</b>\n",
    "- Represents <b>two possible outcomes</b>: ```Right(value)``` (success) or ```Left(error)``` (failure).\n",
    "- Avoids exceptions by propagating errors as values.\n",
    "\n",
    "---\n",
    "\n",
    "#### Old McDonald Had Effects...\n",
    "\n"
   ]
  },
  {
   "cell_type": "code",
   "execution_count": null,
   "metadata": {},
   "outputs": [],
   "source": []
  }
 ],
 "metadata": {
  "kernelspec": {
   "display_name": ".env",
   "language": "python",
   "name": "python3"
  },
  "language_info": {
   "codemirror_mode": {
    "name": "ipython",
    "version": 3
   },
   "file_extension": ".py",
   "mimetype": "text/x-python",
   "name": "python",
   "nbconvert_exporter": "python",
   "pygments_lexer": "ipython3",
   "version": "3.12.5"
  }
 },
 "nbformat": 4,
 "nbformat_minor": 2
}
