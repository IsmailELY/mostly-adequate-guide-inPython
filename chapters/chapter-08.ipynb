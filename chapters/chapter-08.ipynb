{
 "cells": [
  {
   "cell_type": "markdown",
   "metadata": {},
   "source": [
    "# Chapter 08: Tupperware\n",
    "\n",
    "This chapter unveils the foundations of control flow, error handling, state, and effects, extending the power of pure functions.<br><br>\n",
    "\n",
    "\n",
    "---\n",
    "<br>\n",
    "\n",
    "#### The Mighty Container:"
   ]
  },
  {
   "cell_type": "code",
   "execution_count": 11,
   "metadata": {},
   "outputs": [],
   "source": [
    "class Container:\n",
    "    def __init__(self, x):\n",
    "        self.value = x\n",
    "    \n",
    "    @staticmethod\n",
    "    def of(x):\n",
    "        return Container(x)"
   ]
  },
  {
   "cell_type": "code",
   "execution_count": 23,
   "metadata": {},
   "outputs": [
    {
     "name": "stdout",
     "output_type": "stream",
     "text": [
      "3\n",
      "hotdogs\n",
      "{'name': 'yoda'}\n"
     ]
    }
   ],
   "source": [
    "print(Container.of(3).value)                                            # Container(3)\n",
    "\n",
    "print(Container.of('hotdogs').value)                                    # Container(\"hotdogs\")\n",
    "\n",
    "print(Container.of(Container.of({ 'name': 'yoda' })).value.value)       # Container(Container({ name: 'yoda' }))"
   ]
  },
  {
   "cell_type": "markdown",
   "metadata": {},
   "source": [
    "<u><b>Rules:</b></u>\n",
    "- Container is an object with <u>one property</u>. <br>Lots of containers just hold <u>one thing</u>, though they aren't limited to one. <br>We've arbitrarily named its property <u>value</u>.\n",
    "\n",
    "- The value <u>cannot be one specific type</u>.\n",
    "\n",
    "- Once data goes <u>into</u> the Container it <u>stays there</u>. <br>We could get it out by using <u>.value</u>, but that would <u>defeat</u> the purpose."
   ]
  },
  {
   "cell_type": "markdown",
   "metadata": {},
   "source": [
    "---\n",
    "\n",
    "<br>\n",
    "\n",
    "#### My First Functor:\n",
    "\n",
    "<b>Defintion</b><br>\n",
    "A Functor is a type that implements map and obeys some laws\n",
    "\n",
    "We need a way to run functions on our container."
   ]
  },
  {
   "cell_type": "code",
   "execution_count": 27,
   "metadata": {},
   "outputs": [],
   "source": [
    "# (a -> b) -> Container a -> Container b\n",
    "Container.map = lambda self, f: Container.of(f(self.value))"
   ]
  },
  {
   "cell_type": "code",
   "execution_count": 38,
   "metadata": {},
   "outputs": [
    {
     "name": "stdout",
     "output_type": "stream",
     "text": [
      "Container(4):\t\t\t 4\n",
      "Container('FLAMETHROWERS'):\t FLAMETHROWERS\n",
      "Container(10):\t\t\t 10\n"
     ]
    }
   ],
   "source": [
    "e1 = Container.of(2).map(lambda two: two + 2)\n",
    "print(\"Container(4):\\t\\t\\t\", e1.value)\n",
    "\n",
    "e2 = Container.of('flamethrowers').map(lambda s: str.upper(s))\n",
    "print(\"Container('FLAMETHROWERS'):\\t\", e2.value)\n",
    "\n",
    "e3 = Container.of('bombs').map(lambda s: f'{s} away').map(len)\n",
    "print(\"Container(10):\\t\\t\\t\", e3.value)\n",
    "\n",
    "del e1, e2, e3"
   ]
  },
  {
   "cell_type": "markdown",
   "metadata": {},
   "source": [
    "#### Schrödinger's Maybe :\n"
   ]
  },
  {
   "cell_type": "code",
   "execution_count": null,
   "metadata": {},
   "outputs": [],
   "source": []
  }
 ],
 "metadata": {
  "kernelspec": {
   "display_name": ".env",
   "language": "python",
   "name": "python3"
  },
  "language_info": {
   "codemirror_mode": {
    "name": "ipython",
    "version": 3
   },
   "file_extension": ".py",
   "mimetype": "text/x-python",
   "name": "python",
   "nbconvert_exporter": "python",
   "pygments_lexer": "ipython3",
   "version": "3.12.5"
  }
 },
 "nbformat": 4,
 "nbformat_minor": 2
}
