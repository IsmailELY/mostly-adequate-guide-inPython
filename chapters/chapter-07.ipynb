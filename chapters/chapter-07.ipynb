{
 "cells": [
  {
   "cell_type": "markdown",
   "metadata": {},
   "source": [
    "# Chapter 07: Hindley-Milner and Me\n",
    "\n",
    "<b>Type signatures :</b><br/><br/>\n",
    "Type signatures are a powerful tool in functional programming, providing concise documentation, behavioral insights, and compile-time checks, even in dynamic languages.\n",
    "\n",
    "This chapter focuses more on reading than practical examples. <u>Enjoy reading the chapter!</u>"
   ]
  },
  {
   "cell_type": "code",
   "execution_count": 1,
   "metadata": {},
   "outputs": [],
   "source": [
    "import re\n",
    "from utils import curry, compose, map"
   ]
  },
  {
   "cell_type": "code",
   "execution_count": 2,
   "metadata": {},
   "outputs": [
    {
     "data": {
      "text/plain": [
       "'Smurf'"
      ]
     },
     "execution_count": 2,
     "metadata": {},
     "output_type": "execute_result"
    }
   ],
   "source": [
    "# capitalize :: String -> String\n",
    "capitalize = lambda s:  str.upper(s[0]) + str.lower(s[1:]) if s else s\n",
    "\n",
    "capitalize('smurf')"
   ]
  },
  {
   "cell_type": "code",
   "execution_count": 3,
   "metadata": {},
   "outputs": [],
   "source": [
    "# strLength :: String -> Number\n",
    "strLength = lambda s: str.len(s)\n",
    "\n",
    "# join :: String -> [String] -> String\n",
    "join = curry(lambda what, xs: list.append(xs, what))\n",
    "\n",
    "# match :: Regex -> String -> [String]\n",
    "match = curry(lambda reg, s:  re.findall(reg, s))\n",
    "\n",
    "# replace :: Regex -> String -> String -> String\n",
    "replace = curry(lambda reg, sub, s: re.sub(reg, sub, s))"
   ]
  },
  {
   "cell_type": "markdown",
   "metadata": {},
   "source": [
    "function such as ```String -> [String] -> String``` \\\n",
    "Can be regrouped and interpreted as ```String -> ([String] -> String)``` \\\n",
    "Where the input is a string and the output is a function. <b>Illustrating the principle of currying.</b>"
   ]
  },
  {
   "cell_type": "code",
   "execution_count": 4,
   "metadata": {},
   "outputs": [
    {
     "data": {
      "text/plain": [
       "function"
      ]
     },
     "execution_count": 4,
     "metadata": {},
     "output_type": "execute_result"
    }
   ],
   "source": [
    "onHoliday = match(r'holiday')\n",
    "type(onHoliday)"
   ]
  },
  {
   "cell_type": "markdown",
   "metadata": {},
   "source": [
    "---\n",
    "\n",
    "<br><b>Free as in Theorem<b/>"
   ]
  },
  {
   "cell_type": "code",
   "execution_count": 7,
   "metadata": {},
   "outputs": [],
   "source": [
    "# head :: [a] -> a\n",
    "head = lambda xs: xs[0]\n",
    "\n",
    "# filter :: (a -> Bool) -> [a] -> [a]\n",
    "filter = curry(lambda f, xs: [s for s in xs if f(s)])"
   ]
  },
  {
   "cell_type": "markdown",
   "metadata": {},
   "source": [
    "We'll define some functions ```f``` & ```p``` to test the results"
   ]
  },
  {
   "cell_type": "code",
   "execution_count": 18,
   "metadata": {},
   "outputs": [],
   "source": [
    "# f :: String -> String\n",
    "f = lambda a: f'{a}.'\n",
    "\n",
    "# p :: String -> Bool\n",
    "p = lambda a: 'l' in a"
   ]
  },
  {
   "cell_type": "code",
   "execution_count": 30,
   "metadata": {},
   "outputs": [
    {
     "data": {
      "text/plain": [
       "\"Output t1: 'H.' | vs | Output t2: 'H.'\""
      ]
     },
     "execution_count": 30,
     "metadata": {},
     "output_type": "execute_result"
    }
   ],
   "source": [
    "t1 = compose(f, head)\n",
    "t2 = compose(head, map(f))\n",
    "\n",
    "f\"Output t1: '{t1(\"Hold the door!\")}' | vs | Output t2: '{t2(\"Hold the door!\")}'\""
   ]
  },
  {
   "cell_type": "code",
   "execution_count": 31,
   "metadata": {},
   "outputs": [
    {
     "data": {
      "text/plain": [
       "\"Output t3: '['l.']' | vs | Output t4: '['l.']'\""
      ]
     },
     "execution_count": 31,
     "metadata": {},
     "output_type": "execute_result"
    }
   ],
   "source": [
    "t3 = compose(map(f), filter(compose(p, f))) \n",
    "t4 = compose(filter(p), map(f))\n",
    "\n",
    "f\"Output t3: '{t3(\"Hold the door!\")}' | vs | Output t4: '{t4(\"Hold the door!\")}'\""
   ]
  }
 ],
 "metadata": {
  "kernelspec": {
   "display_name": ".env",
   "language": "python",
   "name": "python3"
  },
  "language_info": {
   "codemirror_mode": {
    "name": "ipython",
    "version": 3
   },
   "file_extension": ".py",
   "mimetype": "text/x-python",
   "name": "python",
   "nbconvert_exporter": "python",
   "pygments_lexer": "ipython3",
   "version": "3.12.5"
  }
 },
 "nbformat": 4,
 "nbformat_minor": 2
}
