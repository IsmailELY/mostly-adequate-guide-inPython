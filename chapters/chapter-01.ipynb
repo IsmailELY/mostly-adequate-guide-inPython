{
 "cells": [
  {
   "cell_type": "markdown",
   "metadata": {},
   "source": [
    "# Chapter 1 - What Ever Are We Doing?"
   ]
  },
  {
   "cell_type": "markdown",
   "metadata": {},
   "source": [
    "### A brief Encounter\n",
    "\n",
    "Transforming the following example to python:\n",
    "``` javascript\n",
    "const conjoin = (flockX, flockY) => flockX + flockY;\n",
    "const breed = (flockX, flockY) => flockX * flockY;\n",
    "\n",
    "const flockA = 4;\n",
    "const flockB = 2;\n",
    "const flockC = 0;\n",
    "const result =\n",
    "    conjoin(breed(flockB, conjoin(flockA, flockC)), breed(flockA, flockB));\n",
    "```"
   ]
  },
  {
   "cell_type": "code",
   "execution_count": null,
   "metadata": {},
   "outputs": [],
   "source": [
    "conjoin = lambda x,y : x+y\n",
    "breed = lambda x,y : x*y\n",
    "\n",
    "flockA = 4\n",
    "flockB = 2\n",
    "flockC = 0\n",
    "result = conjoin(breed(flockA, flockB), breed(conjoin(flockA, flockC), flockB))\n",
    "\n",
    "print(f'output is {result}')"
   ]
  },
  {
   "cell_type": "code",
   "execution_count": null,
   "metadata": {},
   "outputs": [],
   "source": [
    "add = conjoin\n",
    "multiply = breed\n",
    "\n",
    "result2 = multiply(flockA, add(flockB, flockB))\n",
    "print(f'simplified version: {result2}')"
   ]
  }
 ],
 "metadata": {
  "kernelspec": {
   "display_name": "Python 3",
   "language": "python",
   "name": "python3"
  },
  "language_info": {
   "name": "python",
   "version": "3.12.5"
  }
 },
 "nbformat": 4,
 "nbformat_minor": 2
}
