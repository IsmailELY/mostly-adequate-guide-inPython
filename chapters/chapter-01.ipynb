{
 "cells": [
  {
   "cell_type": "markdown",
   "metadata": {},
   "source": [
    "# Chapter 1 - What Ever Are We Doing?"
   ]
  },
  {
   "cell_type": "markdown",
   "metadata": {},
   "source": [
    "### A brief Encounter\n",
    "\n",
    "Transforming the following example to python:\n",
    "``` javascript\n",
    "const conjoin = (flockX, flockY) => flockX + flockY;\n",
    "const breed = (flockX, flockY) => flockX * flockY;\n",
    "\n",
    "const flockA = 4;\n",
    "const flockB = 2;\n",
    "const flockC = 0;\n",
    "const result =\n",
    "    conjoin(breed(flockB, conjoin(flockA, flockC)), breed(flockA, flockB));\n",
    "```"
   ]
  },
  {
   "cell_type": "code",
   "execution_count": 1,
   "metadata": {},
   "outputs": [
    {
     "name": "stdout",
     "output_type": "stream",
     "text": [
      "output is 16\n"
     ]
    }
   ],
   "source": [
    "conjoin = lambda x,y : x+y\n",
    "breed = lambda x,y : x*y\n",
    "\n",
    "flockA = 4\n",
    "flockB = 2\n",
    "flockC = 0\n",
    "result = conjoin(breed(flockA, flockB), breed(conjoin(flockA, flockC), flockB))\n",
    "\n",
    "print(f'output is {result}')"
   ]
  },
  {
   "cell_type": "markdown",
   "metadata": {},
   "source": [
    "Function properties are:\n",
    "- associative\n",
    "- commutative\n",
    "- identity\n",
    "- distributive\n",
    "\n",
    "Thus:\n",
    "``` javascript\n",
    "// Original line\n",
    "add(multiply(flockB, add(flockA, flockC)), multiply(flockA, flockB));\n",
    "\n",
    "// Apply the identity property to remove the extra add\n",
    "// (add(flockA, flockC) == flockA)\n",
    "add(multiply(flockB, flockA), multiply(flockA, flockB));\n",
    "\n",
    "// Apply distributive property to achieve our result\n",
    "multiply(flockB, add(flockA, flockA));\n",
    "```"
   ]
  },
  {
   "cell_type": "code",
   "execution_count": 3,
   "metadata": {},
   "outputs": [
    {
     "name": "stdout",
     "output_type": "stream",
     "text": [
      "identity property: 16\n",
      "distributive property: 16\n"
     ]
    }
   ],
   "source": [
    "add = conjoin\n",
    "multiply = breed\n",
    "\n",
    "result1 = add(multiply(flockA, flockB), multiply(flockA, flockB))\n",
    "print(f'identity property: {result1}')\n",
    "\n",
    "result2 = multiply(flockA, add(flockB, flockB))\n",
    "print(f'distributive property: {result2}')"
   ]
  }
 ],
 "metadata": {
  "kernelspec": {
   "display_name": ".env",
   "language": "python",
   "name": "python3"
  },
  "language_info": {
   "codemirror_mode": {
    "name": "ipython",
    "version": 3
   },
   "file_extension": ".py",
   "mimetype": "text/x-python",
   "name": "python",
   "nbconvert_exporter": "python",
   "pygments_lexer": "ipython3",
   "version": "3.12.5"
  }
 },
 "nbformat": 4,
 "nbformat_minor": 2
}
