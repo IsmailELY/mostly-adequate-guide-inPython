{
 "cells": [
  {
   "cell_type": "markdown",
   "metadata": {},
   "source": [
    "# Chapter 03: Pure Happiness with Pure Functions\n",
    "\n",
    "### Pure Function definition:\n",
    "A pure function is a function that consistently produces the same output for the same input and has no observable side effects.\n",
    "\n",
    "The key properties of pure functions are:\n",
    "\n",
    "1. **Cacheable:** \\\n",
    "Results can be cached since the output depends solely on the input.\n",
    "\n",
    "2. **Portable / Self-documenting:** \\\n",
    "The behavior is predictable and easy to understand without external context.\n",
    "\n",
    "3. **Testable:** \\\n",
    "Testing is straightforward due to deterministic outputs.\n",
    "\n",
    "4. **Reasonable:** \\\n",
    "The logic is isolated, making it easy to reason about and debug.\n",
    "\n",
    "5. **Parallel:** \\\n",
    "Pure functions can be executed in parallel without risk of interference."
   ]
  },
  {
   "cell_type": "markdown",
   "metadata": {},
   "source": [
    "Exercising with examples of pure & unpure functions"
   ]
  },
  {
   "cell_type": "code",
   "execution_count": 1,
   "metadata": {},
   "outputs": [
    {
     "name": "stdout",
     "output_type": "stream",
     "text": [
      "Creating list [1, 2, 3] for unpure fct example\n",
      "\n",
      "Return output of a not pure function 1st time: 3\n",
      "Return output of a not pure function 2nd time: 2\n",
      "Let's view the list once again : [1]\n"
     ]
    }
   ],
   "source": [
    "list = [1, 2, 3]\n",
    "print(f\"Creating list {list} for unpure fct example\\n\")\n",
    "\n",
    "def notPureFct():\n",
    "    return list.pop()\n",
    "\n",
    "print(f\"Return output of a not pure function 1st time: {notPureFct()}\")\n",
    "print(f\"Return output of a not pure function 2nd time: {notPureFct()}\")\n",
    "print(f\"Let's view the list once again : {list}\")"
   ]
  },
  {
   "cell_type": "code",
   "execution_count": 2,
   "metadata": {},
   "outputs": [
    {
     "name": "stdout",
     "output_type": "stream",
     "text": [
      "Creating list [1, 2, 3] for pure fct example\n",
      "\n",
      "Return output of a pure function 1st time: 3\n",
      "Return output of a pure function 2nd time: 3\n",
      "Let's view the list once again : [1, 2, 3]\n"
     ]
    }
   ],
   "source": [
    "list = [1, 2, 3]\n",
    "print(f\"Creating list {list} for pure fct example\\n\")\n",
    "\n",
    "def pureFct(l):\n",
    "    return l[:].pop()\n",
    "\n",
    "print(f\"Return output of a pure function 1st time: {pureFct(list)}\")\n",
    "print(f\"Return output of a pure function 2nd time: {pureFct(list)}\")\n",
    "print(f\"Let's view the list once again : {list}\")"
   ]
  },
  {
   "cell_type": "markdown",
   "metadata": {},
   "source": [
    "Cacheability of pure functions"
   ]
  },
  {
   "cell_type": "code",
   "execution_count": 4,
   "metadata": {},
   "outputs": [],
   "source": [
    "import time\n",
    "import json\n",
    "from functools import cache"
   ]
  },
  {
   "cell_type": "code",
   "execution_count": 8,
   "metadata": {},
   "outputs": [],
   "source": [
    "# Pure functions are cacheable\n",
    "# del cached_factorial\n",
    "\n",
    "@cache\n",
    "def cached_factorial(i=0):\n",
    "    if i==0:\n",
    "        return 1\n",
    "    time.sleep(1)\n",
    "    return cached_factorial(i-1)*i"
   ]
  },
  {
   "cell_type": "code",
   "execution_count": 9,
   "metadata": {},
   "outputs": [
    {
     "name": "stdout",
     "output_type": "stream",
     "text": [
      "First execution of cached function took 5.00 second\n",
      "120\n",
      "Second execution of cached function took 0.00 second\n",
      "120\n"
     ]
    }
   ],
   "source": [
    "start_time = time.time()\n",
    "output = cached_factorial(5)\n",
    "print(f\"First execution of cached function took {(time.time()-start_time):.2f} second\\n{output}\")\n",
    "\n",
    "start_time = time.time()\n",
    "output = cached_factorial(5)\n",
    "print(f\"Second execution of cached function took {(time.time()-start_time):.2f} second\\n{output}\")"
   ]
  },
  {
   "cell_type": "code",
   "execution_count": 12,
   "metadata": {},
   "outputs": [],
   "source": [
    "# For a manual implementation of cache\n",
    "def memoize(function):\n",
    "    cache = dict()\n",
    "    \n",
    "    def wrapper(*args):\n",
    "        str_args = json.dumps(args)\n",
    "        cache[str_args] = cache[str_args] if str_args in cache else function(*args)\n",
    "        return cache[str_args]\n",
    "\n",
    "    return wrapper"
   ]
  },
  {
   "cell_type": "code",
   "execution_count": 14,
   "metadata": {},
   "outputs": [],
   "source": [
    "@memoize\n",
    "def my_factorial(i=0):\n",
    "    if i==0:\n",
    "        return 1\n",
    "    time.sleep(1)\n",
    "    return my_factorial(i-1)*i"
   ]
  },
  {
   "cell_type": "code",
   "execution_count": 15,
   "metadata": {},
   "outputs": [
    {
     "name": "stdout",
     "output_type": "stream",
     "text": [
      "Start calculation\n",
      "First execution of my function took 5.00 second\n",
      "120\n",
      "Second execution of my function took 2.00 second\n",
      "5040\n"
     ]
    }
   ],
   "source": [
    "print(\"Start calculation\")\n",
    "start_time = time.time()\n",
    "f = my_factorial(5)\n",
    "print(f\"First execution of my function took {(time.time()-start_time):.2f} second\\n{f}\")\n",
    "\n",
    "start_time = time.time()\n",
    "f = my_factorial(7)\n",
    "print(f\"Second execution of my function took {(time.time()-start_time):.2f} second\\n{f}\")"
   ]
  },
  {
   "cell_type": "markdown",
   "metadata": {},
   "source": [
    "The function calculated <u>my_factorial(7)</u> more quickly because it reused the results of previous executions up to <u>my_factorial(5)</u>."
   ]
  },
  {
   "cell_type": "markdown",
   "metadata": {},
   "source": []
  }
 ],
 "metadata": {
  "kernelspec": {
   "display_name": ".env",
   "language": "python",
   "name": "python3"
  },
  "language_info": {
   "codemirror_mode": {
    "name": "ipython",
    "version": 3
   },
   "file_extension": ".py",
   "mimetype": "text/x-python",
   "name": "python",
   "nbconvert_exporter": "python",
   "pygments_lexer": "ipython3",
   "version": "3.12.5"
  }
 },
 "nbformat": 4,
 "nbformat_minor": 2
}
