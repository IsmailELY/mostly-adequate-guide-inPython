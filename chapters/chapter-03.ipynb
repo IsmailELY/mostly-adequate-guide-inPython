{
 "cells": [
  {
   "cell_type": "markdown",
   "metadata": {},
   "source": [
    "# Chapter 03: Pure Happiness with Pure Functions\n",
    "\n",
    "### Pure Function definition:\n",
    "A pure function is a function that consistently produces the same output for the same input and has no observable side effects.\n",
    "\n",
    "The key properties of pure functions are:\n",
    "\n",
    "1. **Cacheable:** \\\n",
    "Results can be cached since the output depends solely on the input.\n",
    "\n",
    "2. **Portable / Self-documenting:** \\\n",
    "The behavior is predictable and easy to understand without external context.\n",
    "\n",
    "3. **Testable:** \\\n",
    "Testing is straightforward due to deterministic outputs.\n",
    "\n",
    "4. **Reasonable:** \\\n",
    "The logic is isolated, making it easy to reason about and debug.\n",
    "\n",
    "5. **Parallel:** \\\n",
    "Pure functions can be executed in parallel without risk of interference.\n",
    "---"
   ]
  },
  {
   "cell_type": "markdown",
   "metadata": {},
   "source": [
    "#### Exercising with examples of pure & unpure functions"
   ]
  },
  {
   "cell_type": "code",
   "execution_count": 23,
   "metadata": {},
   "outputs": [
    {
     "name": "stdout",
     "output_type": "stream",
     "text": [
      "List: [1, 2, 3]\n",
      "\n",
      "Output of a not pure function 1st execution: 3\n",
      "Output of a not pure function 2nd execution: 2\n",
      "Let's view the list once again : [1]\n"
     ]
    }
   ],
   "source": [
    "list = [1, 2, 3]\n",
    "print(f\"List: {list}\\n\")\n",
    "\n",
    "def notPureFct():\n",
    "    return list.pop()\n",
    "\n",
    "print(f\"Output of a not pure function 1st execution: {notPureFct()}\")\n",
    "print(f\"Output of a not pure function 2nd execution: {notPureFct()}\")\n",
    "print(f\"Let's view the list once again : {list}\")"
   ]
  },
  {
   "cell_type": "code",
   "execution_count": 24,
   "metadata": {},
   "outputs": [
    {
     "name": "stdout",
     "output_type": "stream",
     "text": [
      "List: [1, 2, 3]\n",
      "\n",
      "Output of a pure function 1st execution: 3\n",
      "Output of a pure function 2nd execution: 3\n",
      "Let's view the list once again : [1, 2, 3]\n"
     ]
    }
   ],
   "source": [
    "list = [1, 2, 3]\n",
    "print(f\"List: {list}\\n\")\n",
    "\n",
    "def pureFct(l):\n",
    "    return l[:].pop()\n",
    "\n",
    "print(f\"Output of a pure function 1st execution: {pureFct(list)}\")\n",
    "print(f\"Output of a pure function 2nd execution: {pureFct(list)}\")\n",
    "print(f\"Let's view the list once again : {list}\")"
   ]
  },
  {
   "cell_type": "markdown",
   "metadata": {},
   "source": [
    "---\n",
    "#### Cacheability of pure functions"
   ]
  },
  {
   "cell_type": "code",
   "execution_count": 4,
   "metadata": {},
   "outputs": [],
   "source": [
    "import time\n",
    "import json\n",
    "from functools import cache"
   ]
  },
  {
   "cell_type": "code",
   "execution_count": 8,
   "metadata": {},
   "outputs": [],
   "source": [
    "# Pure functions are cacheable\n",
    "# del cached_factorial\n",
    "\n",
    "@cache\n",
    "def cached_factorial(i=0):\n",
    "    if i==0:\n",
    "        return 1\n",
    "    time.sleep(1)\n",
    "    return cached_factorial(i-1)*i"
   ]
  },
  {
   "cell_type": "code",
   "execution_count": 9,
   "metadata": {},
   "outputs": [
    {
     "name": "stdout",
     "output_type": "stream",
     "text": [
      "First execution of cached function took 5.00 second\n",
      "120\n",
      "Second execution of cached function took 0.00 second\n",
      "120\n"
     ]
    }
   ],
   "source": [
    "start_time = time.time()\n",
    "output = cached_factorial(5)\n",
    "print(f\"First execution of cached function took {(time.time()-start_time):.2f} second\\n{output}\")\n",
    "\n",
    "start_time = time.time()\n",
    "output = cached_factorial(5)\n",
    "print(f\"Second execution of cached function took {(time.time()-start_time):.2f} second\\n{output}\")"
   ]
  },
  {
   "cell_type": "code",
   "execution_count": 12,
   "metadata": {},
   "outputs": [],
   "source": [
    "# For a manual implementation of cache\n",
    "def memoize(function):\n",
    "    cache = dict()\n",
    "    \n",
    "    def wrapper(*args):\n",
    "        str_args = json.dumps(args)\n",
    "        cache[str_args] = cache[str_args] if str_args in cache else function(*args)\n",
    "        return cache[str_args]\n",
    "\n",
    "    return wrapper"
   ]
  },
  {
   "cell_type": "code",
   "execution_count": 14,
   "metadata": {},
   "outputs": [],
   "source": [
    "@memoize\n",
    "def my_factorial(i=0):\n",
    "    if i==0:\n",
    "        return 1\n",
    "    time.sleep(1)\n",
    "    return my_factorial(i-1)*i"
   ]
  },
  {
   "cell_type": "code",
   "execution_count": null,
   "metadata": {},
   "outputs": [
    {
     "name": "stdout",
     "output_type": "stream",
     "text": [
      "Start calculation\n",
      "First execution of my function took 5.00 second\n",
      "120\n",
      "Second execution of my function took 2.00 second\n",
      "5040\n"
     ]
    }
   ],
   "source": [
    "start_time = time.time()\n",
    "f = my_factorial(5)\n",
    "print(f\"First execution of my function took {(time.time()-start_time):.2f} second\\n{f}\")\n",
    "\n",
    "start_time = time.time()\n",
    "f = my_factorial(7)\n",
    "print(f\"Second execution of my function took {(time.time()-start_time):.2f} second\\n{f}\")"
   ]
  },
  {
   "cell_type": "markdown",
   "metadata": {},
   "source": [
    "The function calculated <u>my_factorial(7)</u> more quickly because it reused the results of previous executions up to <u>my_factorial(5)</u>.\n",
    "\n",
    "---\n",
    "#### Portability of pure functions\n",
    "\n",
    "Let's start by creating an external dependency"
   ]
  },
  {
   "cell_type": "code",
   "execution_count": 20,
   "metadata": {},
   "outputs": [],
   "source": [
    "dependency = 5\n",
    "\n",
    "def nonPure(x):\n",
    "    return dependency+x\n",
    "\n",
    "def pure(dependency, x):\n",
    "    return dependency + x"
   ]
  },
  {
   "cell_type": "code",
   "execution_count": 21,
   "metadata": {},
   "outputs": [
    {
     "name": "stdout",
     "output_type": "stream",
     "text": [
      "7\n",
      "5\n"
     ]
    }
   ],
   "source": [
    "print(nonPure(2))\n",
    "dependency = 3\n",
    "print(nonPure(2))"
   ]
  },
  {
   "cell_type": "markdown",
   "metadata": {},
   "source": [
    "This following code might appear straightforward and repetitive, but it incorporates the principle of portability."
   ]
  },
  {
   "cell_type": "code",
   "execution_count": 22,
   "metadata": {},
   "outputs": [
    {
     "name": "stdout",
     "output_type": "stream",
     "text": [
      "7\n",
      "7\n"
     ]
    }
   ],
   "source": [
    "# This code might seem straightforward and repetitive but it incorporate the concept of portability\n",
    "print(pure(5, 2))\n",
    "dependency = 122\n",
    "print(pure(5, 2))"
   ]
  },
  {
   "cell_type": "markdown",
   "metadata": {},
   "source": [
    "---\n",
    "#### Reasonable"
   ]
  },
  {
   "cell_type": "code",
   "execution_count": 39,
   "metadata": {},
   "outputs": [
    {
     "name": "stdout",
     "output_type": "stream",
     "text": [
      "{'name': 'Michael', 'team': 'green', 'hp': 19}\n"
     ]
    }
   ],
   "source": [
    "jobe = { 'name': 'Jobe', 'hp': 20, 'team': 'red' }\n",
    "michael = { 'name': 'Michael', 'hp': 20, 'team': 'green' }\n",
    "\n",
    "decrementHP = lambda p: p.update({'hp': p.pop('hp')-1})\n",
    "isSameTeam = lambda p1, p2: p1['team'] == p2['team']\n",
    "punch = lambda a, t:  t if isSameTeam(a, t) else decrementHP(t)\n",
    "\n",
    "punch(jobe, michael) \n",
    "print(michael)"
   ]
  },
  {
   "cell_type": "code",
   "execution_count": 40,
   "metadata": {},
   "outputs": [
    {
     "name": "stdout",
     "output_type": "stream",
     "text": [
      "jobe 2nd punch on michael:  {'name': 'Michael', 'team': 'green', 'hp': 18}\n",
      "jobe 3rd punch on michael:  {'name': 'Michael', 'team': 'green', 'hp': 17}\n",
      "jobe isn't going easy on michael:  {'name': 'Michael', 'team': 'green', 'hp': 16}\n",
      "jobe is ruthless:  {'name': 'Michael', 'team': 'green', 'hp': 15}\n"
     ]
    }
   ],
   "source": [
    "# inline the function isSameTeam\n",
    "punch = lambda a, t: t if a['team'] == t['team'] else decrementHP(t)\n",
    "punch(jobe, michael) \n",
    "print(\"jobe 2nd punch on michael: \", michael)\n",
    "\n",
    "# It gets converted to the following check\n",
    "punch = lambda a, t: t if 'red' == 'green' else decrementHP(t)\n",
    "punch(jobe, michael) \n",
    "print(\"jobe 3rd punch on michael: \", michael)\n",
    "\n",
    "# Since it's false we can remove the entire if branch\n",
    "punch = lambda a, t: decrementHP(t)\n",
    "punch(jobe, michael) \n",
    "print(\"jobe isn't going easy on michael: \", michael)\n",
    "\n",
    "# if we inline decrementHP\n",
    "punch = lambda a, t: t.update({'hp': t.pop('hp')-1})\n",
    "punch(jobe, michael) \n",
    "print(\"jobe is ruthless: \", michael)"
   ]
  }
 ],
 "metadata": {
  "kernelspec": {
   "display_name": ".env",
   "language": "python",
   "name": "python3"
  },
  "language_info": {
   "codemirror_mode": {
    "name": "ipython",
    "version": 3
   },
   "file_extension": ".py",
   "mimetype": "text/x-python",
   "name": "python",
   "nbconvert_exporter": "python",
   "pygments_lexer": "ipython3",
   "version": "3.12.5"
  }
 },
 "nbformat": 4,
 "nbformat_minor": 2
}
