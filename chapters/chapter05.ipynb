{
 "cells": [
  {
   "cell_type": "markdown",
   "metadata": {},
   "source": [
    "# Chapter 05: Coding by Composing\n",
    "\n",
    "### Defintion of Composing concept \n",
    "The composition of two functions `f` and `g` returns a new function `h`, such that:  \n",
    "`h = f(g) := f ∘ g`\n",
    "\n",
    "---\n",
    "#### Functional husbandry"
   ]
  },
  {
   "cell_type": "code",
   "execution_count": 1,
   "metadata": {},
   "outputs": [],
   "source": [
    "compose = lambda f,g: lambda x: f(g(x))"
   ]
  },
  {
   "cell_type": "code",
   "execution_count": 2,
   "metadata": {},
   "outputs": [],
   "source": [
    "toUpperCase = lambda x: x.upper()\n",
    "exclaim = lambda x: f'{x}!'\n",
    "shout = compose(exclaim, toUpperCase)"
   ]
  },
  {
   "cell_type": "code",
   "execution_count": 4,
   "metadata": {},
   "outputs": [
    {
     "data": {
      "text/plain": [
       "'SEND IN THE CLOWNS!'"
      ]
     },
     "execution_count": 4,
     "metadata": {},
     "output_type": "execute_result"
    }
   ],
   "source": [
    "shout('send in the clowns')"
   ]
  },
  {
   "cell_type": "markdown",
   "metadata": {},
   "source": [
    "#### What does reduce do ?\n",
    "- In the functional programming paradigm, reduce is a higher-order function that iteratively applies an operation to elements of a sequence, accumulating them into a single result. \n",
    "- Starting with an initial value (or the first element if no initial value is provided), it combines elements one at a time using the specified function."
   ]
  },
  {
   "cell_type": "code",
   "execution_count": 7,
   "metadata": {},
   "outputs": [],
   "source": [
    "from functools import reduce\n",
    "\n",
    "def my_reduce(f, acc0):\n",
    "    def wrap(li, acc=acc0):\n",
    "        return acc if len(li)==0 else wrap(li=li[1:], acc=f(acc, li[0]))\n",
    "    return wrap"
   ]
  },
  {
   "cell_type": "code",
   "execution_count": 8,
   "metadata": {},
   "outputs": [],
   "source": [
    "head = lambda x: x[0]\n",
    "my_reverse = my_reduce(lambda acc, x: [x] + acc[:], [])\n",
    "reverse = lambda iter: reduce(lambda acc, x: [x] + acc[:], iter,[])\n",
    "last = compose(head, reverse)"
   ]
  },
  {
   "cell_type": "markdown",
   "metadata": {},
   "source": [
    "Let's take a look at an example of the reduce function from the functools module and compare it to my_reduce function."
   ]
  },
  {
   "cell_type": "code",
   "execution_count": 12,
   "metadata": {},
   "outputs": [
    {
     "name": "stdout",
     "output_type": "stream",
     "text": [
      "output with functool reduce [4, 3, 2, 1]\n",
      "output with my_reduce [4, 3, 2, 1]\n"
     ]
    }
   ],
   "source": [
    "example = [1,2,3,4]\n",
    "print(f\"output with functool reduce {reverse(example)}\")\n",
    "print(f\"output with my_reduce {my_reverse(example)}\")"
   ]
  },
  {
   "cell_type": "code",
   "execution_count": 17,
   "metadata": {},
   "outputs": [
    {
     "name": "stdout",
     "output_type": "stream",
     "text": [
      "uppercut\n"
     ]
    }
   ],
   "source": [
    "arg = ['jumpkick', 'roundhouse', 'uppercut']\n",
    "print(last(arg))"
   ]
  },
  {
   "cell_type": "markdown",
   "metadata": {},
   "source": [
    "Composition is a relationship between functions that satisfies **Associativity**:  \n",
    "   `compose(f, compose(g, h))` is equivalent to `compose(compose(f, g), h)`."
   ]
  },
  {
   "cell_type": "code",
   "execution_count": 18,
   "metadata": {},
   "outputs": [
    {
     "name": "stdout",
     "output_type": "stream",
     "text": [
      "compose(f, compose(g, h)):  UPPERCUT\n",
      "compose(compose(f, g), h):  UPPERCUT\n"
     ]
    }
   ],
   "source": [
    "print(\"compose(f, compose(g, h)): \", compose(toUpperCase, compose(head, reverse))(arg))\n",
    "print(\"compose(compose(f, g), h): \", compose(compose(toUpperCase, head), reverse)(arg))"
   ]
  },
  {
   "cell_type": "markdown",
   "metadata": {},
   "source": [
    "There isn't a built-in **variadic** function for composition in python. \\\n",
    "So we need to define one ourselves :"
   ]
  },
  {
   "cell_type": "code",
   "execution_count": 23,
   "metadata": {},
   "outputs": [],
   "source": [
    "# Inline version\n",
    "compose = lambda *fs: reduce(lambda f, g: lambda *a, **kw: f(g(*a, **kw)), fs)\n",
    "\n",
    "# Expanded version\n",
    "def compose2(*fs):\n",
    "    def partComp(f, g):\n",
    "        def applyComp(*a, **kw):\n",
    "            return f(g(*a, **kw))\n",
    "        return applyComp\n",
    "    return reduce(partComp, fs)"
   ]
  },
  {
   "cell_type": "code",
   "execution_count": 35,
   "metadata": {},
   "outputs": [
    {
     "name": "stdout",
     "output_type": "stream",
     "text": [
      "Inline version:\t  UPPERCUT\n",
      "Expanded version: UPPERCUT\n"
     ]
    }
   ],
   "source": [
    "print(\"Inline version:\\t \", compose(toUpperCase, head, reverse)(['jumpkick', 'roundhouse', 'uppercut']))\n",
    "print(\"Expanded version:\", compose2(toUpperCase, head, reverse)(['jumpkick', 'roundhouse', 'uppercut']))"
   ]
  },
  {
   "cell_type": "markdown",
   "metadata": {},
   "source": [
    "---\n",
    "\n",
    "#### Definition of Pointfree functions:\n",
    "- Pointfree functions are defined as functions that operate without explicitly referencing the data they act upon.\n",
    "- This style relies on first-class functions, currying, and composition, which work seamlessly together to enable concise and expressive function definitions."
   ]
  },
  {
   "cell_type": "code",
   "execution_count": 25,
   "metadata": {},
   "outputs": [],
   "source": [
    "import re\n",
    "from functools import partial"
   ]
  },
  {
   "cell_type": "markdown",
   "metadata": {},
   "source": [
    "first example"
   ]
  },
  {
   "cell_type": "code",
   "execution_count": 26,
   "metadata": {},
   "outputs": [],
   "source": [
    "snakeCase = lambda word: re.sub(r's+', '_', word.lower()) # not pointfree function\n",
    "snakeCase2 = compose(partial(re.sub, r's+', '_'), str.lower) # pointfree function"
   ]
  },
  {
   "cell_type": "code",
   "execution_count": 32,
   "metadata": {},
   "outputs": [
    {
     "name": "stdout",
     "output_type": "stream",
     "text": [
      "Not a pointfree function:  hello _ini_ter man!\n",
      "A pointfree function:\t   hello _ini_ter man!\n"
     ]
    }
   ],
   "source": [
    "print(\"Not a pointfree function: \", snakeCase(\"Hello sinister man!\"))\n",
    "print(\"A pointfree function:\\t  \", snakeCase2(\"Hello sinister man!\"))"
   ]
  },
  {
   "cell_type": "markdown",
   "metadata": {},
   "source": [
    "second example"
   ]
  },
  {
   "cell_type": "code",
   "execution_count": 49,
   "metadata": {},
   "outputs": [],
   "source": [
    "initials =  lambda name: '. '.join([ compose(toUpperCase, head)(x) for x in name.split(' ')]) # not pointfree function\n",
    "\n",
    "map = lambda f, xs: [f(x) for x in xs]\n",
    "split = lambda sep, x: str.split(x, sep)\n",
    "intercalate = partial(str.join, '. ')\n",
    "\n",
    "initials2 = compose(intercalate, partial(map, compose(toUpperCase, head)), partial(split, ' ')) #pointfree function"
   ]
  },
  {
   "cell_type": "code",
   "execution_count": 50,
   "metadata": {},
   "outputs": [
    {
     "name": "stdout",
     "output_type": "stream",
     "text": [
      "Not a pointfree function:  H. S. T\n",
      "A pointfree function:\t   H. S. T\n"
     ]
    }
   ],
   "source": [
    "print(\"Not a pointfree function: \", initials('hunter stockton thompson'))\n",
    "print(\"A pointfree function:\\t  \", initials2('hunter stockton thompson'))"
   ]
  },
  {
   "cell_type": "markdown",
   "metadata": {},
   "source": [
    "---\n",
    "#### Debugging\n",
    "One common error is trying to compose a function before currying it."
   ]
  },
  {
   "cell_type": "code",
   "execution_count": 38,
   "metadata": {},
   "outputs": [],
   "source": [
    "angry = compose(exclaim, toUpperCase)\n",
    "\n",
    "# Error - we end up giving angry an array and we partially applied map with who knows what.\n",
    "latin = compose(map, angry, reverse)\n",
    "\n",
    "# Right - each function expects 1 argument\n",
    "latin2 = compose(partial(map, angry), reverse)"
   ]
  },
  {
   "cell_type": "code",
   "execution_count": 41,
   "metadata": {},
   "outputs": [
    {
     "name": "stdout",
     "output_type": "stream",
     "text": [
      "Error: 'list' object has no attribute 'upper'\n"
     ]
    }
   ],
   "source": [
    "try:\n",
    "    latin(['frog', 'eyes'])\n",
    "except Exception as e:\n",
    "    print(f'Error: {e}')"
   ]
  },
  {
   "cell_type": "code",
   "execution_count": 42,
   "metadata": {},
   "outputs": [
    {
     "data": {
      "text/plain": [
       "['EYES!', 'FROG!']"
      ]
     },
     "execution_count": 42,
     "metadata": {},
     "output_type": "execute_result"
    }
   ],
   "source": [
    "latin2(['frog', 'eyes'])"
   ]
  },
  {
   "cell_type": "markdown",
   "metadata": {},
   "source": [
    "To debug this type of issue, you can trace the composition using a function like this:"
   ]
  },
  {
   "cell_type": "code",
   "execution_count": 59,
   "metadata": {},
   "outputs": [],
   "source": [
    "def trace(tag): \n",
    "    def f(x):\n",
    "        print(tag, x)\n",
    "        return x\n",
    "    return f"
   ]
  },
  {
   "cell_type": "code",
   "execution_count": 56,
   "metadata": {},
   "outputs": [],
   "source": [
    "dasherize = compose(\n",
    "                partial(str.join, '-'), \n",
    "                str.lower, \n",
    "                partial(split, ' '), \n",
    "                partial(re.sub, r's{2,}', ' ')\n",
    "            )"
   ]
  },
  {
   "cell_type": "code",
   "execution_count": 57,
   "metadata": {},
   "outputs": [
    {
     "name": "stdout",
     "output_type": "stream",
     "text": [
      "Error: descriptor 'lower' for 'str' objects doesn't apply to a 'list' object\n"
     ]
    }
   ],
   "source": [
    "try:\n",
    "    dasherize('The world is a vampire')\n",
    "except Exception as e:\n",
    "    print(f'Error: {e}')"
   ]
  },
  {
   "cell_type": "code",
   "execution_count": 66,
   "metadata": {},
   "outputs": [],
   "source": [
    "dasherize = compose(\n",
    "                partial(str.join, '-'), \n",
    "                str.lower, \n",
    "                trace('output after split: '),\n",
    "                partial(split, ' '), \n",
    "                partial(re.sub, r's{2,}', ' ')\n",
    "            )"
   ]
  },
  {
   "cell_type": "code",
   "execution_count": 67,
   "metadata": {},
   "outputs": [
    {
     "name": "stdout",
     "output_type": "stream",
     "text": [
      "output after split:  ['The', 'world', 'is', 'a', 'vampire']\n",
      "Error: descriptor 'lower' for 'str' objects doesn't apply to a 'list' object\n"
     ]
    }
   ],
   "source": [
    "try:\n",
    "    dasherize('The world is a vampire')\n",
    "except Exception as e:\n",
    "    print(f'Error: {e}')"
   ]
  },
  {
   "cell_type": "code",
   "execution_count": 64,
   "metadata": {},
   "outputs": [],
   "source": [
    "dasherize = compose(\n",
    "                partial(str.join, '-'), \n",
    "                partial(map, str.lower),\n",
    "                partial(split, ' '), \n",
    "                partial(re.sub, r's{2,}', ' ')\n",
    "            )"
   ]
  },
  {
   "cell_type": "code",
   "execution_count": 65,
   "metadata": {},
   "outputs": [
    {
     "data": {
      "text/plain": [
       "'the-world-is-a-vampire'"
      ]
     },
     "execution_count": 65,
     "metadata": {},
     "output_type": "execute_result"
    }
   ],
   "source": [
    "dasherize('The world is a vampire')"
   ]
  },
  {
   "cell_type": "markdown",
   "metadata": {},
   "source": [
    "---\n",
    "\n",
    "#### Category Theory"
   ]
  },
  {
   "cell_type": "code",
   "execution_count": null,
   "metadata": {},
   "outputs": [],
   "source": []
  }
 ],
 "metadata": {
  "kernelspec": {
   "display_name": ".env",
   "language": "python",
   "name": "python3"
  },
  "language_info": {
   "codemirror_mode": {
    "name": "ipython",
    "version": 3
   },
   "file_extension": ".py",
   "mimetype": "text/x-python",
   "name": "python",
   "nbconvert_exporter": "python",
   "pygments_lexer": "ipython3",
   "version": "3.12.5"
  }
 },
 "nbformat": 4,
 "nbformat_minor": 2
}
