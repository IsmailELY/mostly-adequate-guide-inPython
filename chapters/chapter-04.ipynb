{
 "cells": [
  {
   "cell_type": "markdown",
   "metadata": {},
   "source": [
    "# Chapter 04: Currying\n",
    "\n",
    "### Function Currying\n",
    "Currying is a straightforward concept. A function is said to be curried if it transforms a multi-argument function into a sequence of functions, each taking a single argument.\n",
    "\n",
    "However, providing a function with fewer arguments than it requires is referred to as partial application."
   ]
  },
  {
   "cell_type": "code",
   "execution_count": 1,
   "metadata": {},
   "outputs": [],
   "source": [
    "def add(x):\n",
    "    def adds(y):\n",
    "        return x + y\n",
    "    return adds"
   ]
  },
  {
   "cell_type": "markdown",
   "metadata": {},
   "source": [
    "Example of curried functions"
   ]
  },
  {
   "cell_type": "code",
   "execution_count": 2,
   "metadata": {},
   "outputs": [
    {
     "name": "stdout",
     "output_type": "stream",
     "text": [
      "3\n",
      "12\n"
     ]
    }
   ],
   "source": [
    "increment = add(1)\n",
    "addTen = add(10)\n",
    "\n",
    "print(increment(2))\n",
    "print(addTen(2))"
   ]
  },
  {
   "cell_type": "markdown",
   "metadata": {},
   "source": [
    "---\n",
    "\n",
    "More curried functions"
   ]
  },
  {
   "cell_type": "code",
   "execution_count": 3,
   "metadata": {},
   "outputs": [],
   "source": [
    "import re\n",
    "from functools import partial"
   ]
  },
  {
   "cell_type": "code",
   "execution_count": 4,
   "metadata": {},
   "outputs": [],
   "source": [
    "match = lambda what, s: re.findall(what, s)\n",
    "replace = lambda what, replacement, s: re.sub(what, replacement, s)\n",
    "filter = lambda f, xs: [s for s in xs if f(s)]\n",
    "map = lambda f, xs: [f(s) for s in xs]"
   ]
  },
  {
   "cell_type": "code",
   "execution_count": 12,
   "metadata": {},
   "outputs": [
    {
     "data": {
      "text/plain": [
       "['r']"
      ]
     },
     "execution_count": 12,
     "metadata": {},
     "output_type": "execute_result"
    }
   ],
   "source": [
    "match('r', 'hello world')"
   ]
  },
  {
   "cell_type": "code",
   "execution_count": 6,
   "metadata": {},
   "outputs": [
    {
     "name": "stdout",
     "output_type": "stream",
     "text": [
      "['r']\n",
      "[]\n"
     ]
    }
   ],
   "source": [
    "hasLetterR = partial(match, 'r')\n",
    "\n",
    "print(hasLetterR('hello world'))\n",
    "print(hasLetterR('just j and s and t etc'))"
   ]
  },
  {
   "cell_type": "code",
   "execution_count": 7,
   "metadata": {},
   "outputs": [
    {
     "data": {
      "text/plain": [
       "['rock and roll']"
      ]
     },
     "execution_count": 7,
     "metadata": {},
     "output_type": "execute_result"
    }
   ],
   "source": [
    "filter(hasLetterR, ['rock and roll', 'smooth jazz'])"
   ]
  },
  {
   "cell_type": "code",
   "execution_count": 10,
   "metadata": {},
   "outputs": [
    {
     "data": {
      "text/plain": [
       "['rock and roll', 'drum circle']"
      ]
     },
     "execution_count": 10,
     "metadata": {},
     "output_type": "execute_result"
    }
   ],
   "source": [
    "removeStringsWithoutRs = partial(filter, hasLetterR)\n",
    "\n",
    "removeStringsWithoutRs(['rock and roll', 'smooth jazz', 'drum circle'])"
   ]
  },
  {
   "cell_type": "code",
   "execution_count": 11,
   "metadata": {},
   "outputs": [
    {
     "data": {
      "text/plain": [
       "'Ch*c*l*t* R**n'"
      ]
     },
     "execution_count": 11,
     "metadata": {},
     "output_type": "execute_result"
    }
   ],
   "source": [
    "noVowels = partial(replace, r'[aeiou]')\n",
    "censored = partial(noVowels, '*')\n",
    "\n",
    "censored('Chocolate Rain')"
   ]
  }
 ],
 "metadata": {
  "kernelspec": {
   "display_name": ".env",
   "language": "python",
   "name": "python3"
  },
  "language_info": {
   "codemirror_mode": {
    "name": "ipython",
    "version": 3
   },
   "file_extension": ".py",
   "mimetype": "text/x-python",
   "name": "python",
   "nbconvert_exporter": "python",
   "pygments_lexer": "ipython3",
   "version": "3.12.5"
  }
 },
 "nbformat": 4,
 "nbformat_minor": 2
}
